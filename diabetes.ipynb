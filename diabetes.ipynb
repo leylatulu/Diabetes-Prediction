{
 "cells": [
  {
   "cell_type": "code",
   "execution_count": 1,
   "id": "ff923087",
   "metadata": {
    "execution": {
     "iopub.execute_input": "2022-08-04T07:25:37.578511Z",
     "iopub.status.busy": "2022-08-04T07:25:37.577677Z",
     "iopub.status.idle": "2022-08-04T07:25:37.591765Z",
     "shell.execute_reply": "2022-08-04T07:25:37.589912Z"
    },
    "papermill": {
     "duration": 0.026338,
     "end_time": "2022-08-04T07:25:37.595202",
     "exception": false,
     "start_time": "2022-08-04T07:25:37.568864",
     "status": "completed"
    },
    "tags": []
   },
   "outputs": [],
   "source": [
    "################################################################################################\n",
    "# Diabetes Feature Engineering Project\n",
    "################################################################################################\n",
    "\n",
    "# 1. Introduction:\n",
    "\n",
    "# Project Scope: A medical supplier company needs to predict whether a person has diabetes using ML. However,\n",
    "# before trying out the ML algorithms, we need to perform an EXPLORATORY DATA ANALYSIS and  FEATURE ENGINEERING.\n",
    "\n",
    "# Story of The Data: The dataset is derived from  'USA national institute of diabetes and digestive and kidney diseases'\n",
    "# dataset. The target variable is identified as 0 and 1 where 0 refers to negative diabetes test result and 1 refers to\n",
    "# positive diabetes test result.\n",
    "\n",
    "# 9 feature, 768 observations, 24 KB.\n",
    "\n",
    "# 2. Exploratory Data Analysis:\n"
   ]
  },
  {
   "cell_type": "code",
   "execution_count": 2,
   "id": "0a39f6e7",
   "metadata": {
    "execution": {
     "iopub.execute_input": "2022-08-04T07:25:37.612758Z",
     "iopub.status.busy": "2022-08-04T07:25:37.611594Z",
     "iopub.status.idle": "2022-08-04T07:25:51.908252Z",
     "shell.execute_reply": "2022-08-04T07:25:51.906877Z"
    },
    "papermill": {
     "duration": 14.308601,
     "end_time": "2022-08-04T07:25:51.911009",
     "exception": false,
     "start_time": "2022-08-04T07:25:37.602408",
     "status": "completed"
    },
    "tags": []
   },
   "outputs": [],
   "source": [
    "# loading the libraries \n",
    "import numpy as np\n",
    "import pandas as pd\n",
    "import seaborn as sns\n",
    "from matplotlib import pyplot as plt\n",
    "#!pip install missingno\n",
    "import missingno as msno\n",
    "from datetime import date\n",
    "#!pip install tensorflow\n",
    "from lightgbm import LGBMClassifier\n",
    "from sklearn.svm import SVC\n",
    "from sklearn.model_selection import cross_validate, GridSearchCV\n",
    "from sklearn.metrics import classification_report, confusion_matrix\n",
    "from keras.models import Sequential\n",
    "from keras.layers import Dense,Dropout\n",
    "from tensorflow.keras.callbacks import EarlyStopping\n",
    "from keras.regularizers import l2\n",
    "\n",
    "from sklearn.metrics import accuracy_score\n",
    "from sklearn.model_selection import train_test_split\n",
    "from sklearn.neighbors import LocalOutlierFactor\n",
    "from sklearn.preprocessing import MinMaxScaler, LabelEncoder, StandardScaler, RobustScaler\n",
    "from sklearn.metrics import accuracy_score, precision_score, recall_score, f1_score,roc_auc_score\n"
   ]
  },
  {
   "cell_type": "code",
   "execution_count": 3,
   "id": "ae6ce6a5",
   "metadata": {
    "execution": {
     "iopub.execute_input": "2022-08-04T07:25:51.926336Z",
     "iopub.status.busy": "2022-08-04T07:25:51.925935Z",
     "iopub.status.idle": "2022-08-04T07:25:51.947255Z",
     "shell.execute_reply": "2022-08-04T07:25:51.946404Z"
    },
    "papermill": {
     "duration": 0.031871,
     "end_time": "2022-08-04T07:25:51.949745",
     "exception": false,
     "start_time": "2022-08-04T07:25:51.917874",
     "status": "completed"
    },
    "tags": []
   },
   "outputs": [],
   "source": [
    "pd.set_option('display.max_columns', None)\n",
    "pd.set_option('display.max_rows', None)\n",
    "pd.set_option('display.float_format', lambda x: '%.3f' % x)\n",
    "pd.set_option('display.width', 500)\n",
    "\n",
    "# loading the diabetes dataset.\n",
    "data = pd.read_csv(\"diabetes.csv\")\n",
    "df = data.copy()\n"
   ]
  },
  {
   "cell_type": "code",
   "execution_count": 4,
   "id": "572b182e",
   "metadata": {},
   "outputs": [
    {
     "data": {
      "text/plain": [
       "41    18\n",
       "37    17\n",
       "42    14\n",
       "31    14\n",
       "28    14\n",
       "45    13\n",
       "29    13\n",
       "43    12\n",
       "38    12\n",
       "30    11\n",
       "34    11\n",
       "36    11\n",
       "32    10\n",
       "33    10\n",
       "39    10\n",
       "40    10\n",
       "46     9\n",
       "27     9\n",
       "51     8\n",
       "26     7\n",
       "24     7\n",
       "50     7\n",
       "35     7\n",
       "58     6\n",
       "48     5\n",
       "25     5\n",
       "44     5\n",
       "49     5\n",
       "22     5\n",
       "47     5\n",
       "54     5\n",
       "57     5\n",
       "60     5\n",
       "23     4\n",
       "52     4\n",
       "53     3\n",
       "66     3\n",
       "63     3\n",
       "56     3\n",
       "55     3\n",
       "61     2\n",
       "65     2\n",
       "67     2\n",
       "69     2\n",
       "21     2\n",
       "59     1\n",
       "81     1\n",
       "64     1\n",
       "62     1\n",
       "70     1\n",
       "68     1\n",
       "Name: Age, dtype: int64"
      ]
     },
     "execution_count": 4,
     "metadata": {},
     "output_type": "execute_result"
    }
   ],
   "source": [
    "# 3 ten fazla hamilelik sayısı olan kadınların yaş ortalaması\n",
    "df[df[\"Pregnancies\"] > 3][\"Age\"].value_counts()"
   ]
  },
  {
   "cell_type": "code",
   "execution_count": 5,
   "id": "cab60884",
   "metadata": {
    "execution": {
     "iopub.execute_input": "2022-08-04T07:25:51.964750Z",
     "iopub.status.busy": "2022-08-04T07:25:51.964345Z",
     "iopub.status.idle": "2022-08-04T07:25:52.022299Z",
     "shell.execute_reply": "2022-08-04T07:25:52.021143Z"
    },
    "papermill": {
     "duration": 0.068598,
     "end_time": "2022-08-04T07:25:52.025037",
     "exception": false,
     "start_time": "2022-08-04T07:25:51.956439",
     "status": "completed"
    },
    "tags": []
   },
   "outputs": [
    {
     "name": "stdout",
     "output_type": "stream",
     "text": [
      "################################# shape ##########################\n",
      "(768, 9)\n",
      "################################# type ##########################\n",
      "Pregnancies                   int64\n",
      "Glucose                       int64\n",
      "BloodPressure                 int64\n",
      "SkinThickness                 int64\n",
      "Insulin                       int64\n",
      "BMI                         float64\n",
      "DiabetesPedigreeFunction    float64\n",
      "Age                           int64\n",
      "Outcome                       int64\n",
      "dtype: object\n",
      "################################# head ##########################\n",
      "   Pregnancies  Glucose  BloodPressure  SkinThickness  Insulin    BMI  DiabetesPedigreeFunction  Age  Outcome\n",
      "0            6      148             72             35        0 33.600                     0.627   50        1\n",
      "1            1       85             66             29        0 26.600                     0.351   31        0\n",
      "2            8      183             64              0        0 23.300                     0.672   32        1\n",
      "3            1       89             66             23       94 28.100                     0.167   21        0\n",
      "4            0      137             40             35      168 43.100                     2.288   33        1\n",
      "################################# tail ##########################\n",
      "     Pregnancies  Glucose  BloodPressure  SkinThickness  Insulin    BMI  DiabetesPedigreeFunction  Age  Outcome\n",
      "763           10      101             76             48      180 32.900                     0.171   63        0\n",
      "764            2      122             70             27        0 36.800                     0.340   27        0\n",
      "765            5      121             72             23      112 26.200                     0.245   30        0\n",
      "766            1      126             60              0        0 30.100                     0.349   47        1\n",
      "767            1       93             70             31        0 30.400                     0.315   23        0\n",
      "################################# null ##########################\n",
      "Pregnancies                 0\n",
      "Glucose                     0\n",
      "BloodPressure               0\n",
      "SkinThickness               0\n",
      "Insulin                     0\n",
      "BMI                         0\n",
      "DiabetesPedigreeFunction    0\n",
      "Age                         0\n",
      "Outcome                     0\n",
      "dtype: int64\n",
      "################################# quantiles #####################\n",
      "                           count    mean     std    min     0%     5%     50%     95%     99%    100%     max\n",
      "Pregnancies              768.000   3.845   3.370  0.000  0.000  0.000   3.000  10.000  13.000  17.000  17.000\n",
      "Glucose                  768.000 120.895  31.973  0.000  0.000 79.000 117.000 181.000 196.000 199.000 199.000\n",
      "BloodPressure            768.000  69.105  19.356  0.000  0.000 38.700  72.000  90.000 106.000 122.000 122.000\n",
      "SkinThickness            768.000  20.536  15.952  0.000  0.000  0.000  23.000  44.000  51.330  99.000  99.000\n",
      "Insulin                  768.000  79.799 115.244  0.000  0.000  0.000  30.500 293.000 519.900 846.000 846.000\n",
      "BMI                      768.000  31.993   7.884  0.000  0.000 21.800  32.000  44.395  50.759  67.100  67.100\n",
      "DiabetesPedigreeFunction 768.000   0.472   0.331  0.078  0.078  0.140   0.372   1.133   1.698   2.420   2.420\n",
      "Age                      768.000  33.241  11.760 21.000 21.000 21.000  29.000  58.000  67.000  81.000  81.000\n",
      "Outcome                  768.000   0.349   0.477  0.000  0.000  0.000   0.000   1.000   1.000   1.000   1.000\n"
     ]
    }
   ],
   "source": [
    "\n",
    "# Quick glance at a dataset\n",
    "def check_df(data, x=5):\n",
    "    print('################################# shape ##########################')\n",
    "    print(data.shape )\n",
    "    print('################################# type ##########################')\n",
    "    print(data.dtypes)\n",
    "    print('################################# head ##########################')\n",
    "    print(data.head(x))\n",
    "    print('################################# tail ##########################')\n",
    "    print(data.tail(x))\n",
    "    print('################################# null ##########################')\n",
    "    print(data.isnull().sum().sort_values(ascending=False))\n",
    "    print('################################# quantiles #####################')\n",
    "    print(data.describe([0, 0.05, 0.5, 0.95, 0.99, 1]).T)\n",
    "check_df(df)\n",
    "\n",
    "# At the first sight, it seems that we have only integers and float values.\n",
    "# NO NAN Values\n",
    "# Pregnancy's max value falls far away from its mean or median values.\n",
    "# Insulin's mean and median values are far away from each other.\n"
   ]
  },
  {
   "cell_type": "code",
   "execution_count": 6,
   "id": "c450aa1a",
   "metadata": {},
   "outputs": [
    {
     "data": {
      "image/png": "[encoded data removed]",
      "text/plain": [
       "<Figure size 504x360 with 1 Axes>"
      ]
     },
     "metadata": {
      "needs_background": "light"
     },
     "output_type": "display_data"
    }
   ],
   "source": [
    "tanilar = df.Outcome.value_counts().index\n",
    "sayilar = df.Outcome.value_counts().values\n",
    "\n",
    "plt.figure(figsize=(7,5))\n",
    "sns.set_palette(\"Set2\")\n",
    "sns.barplot(x=tanilar, y=sayilar)\n",
    "plt.title(\"Hedef Değişken Dağılımı\")\n",
    "plt.xticks(rotation=0)\n",
    "plt.show()"
   ]
  },
  {
   "cell_type": "code",
   "execution_count": 7,
   "id": "7ccb45cc",
   "metadata": {
    "execution": {
     "iopub.execute_input": "2022-08-04T07:25:52.040884Z",
     "iopub.status.busy": "2022-08-04T07:25:52.040500Z",
     "iopub.status.idle": "2022-08-04T07:25:53.886985Z",
     "shell.execute_reply": "2022-08-04T07:25:53.885446Z"
    },
    "papermill": {
     "duration": 1.858503,
     "end_time": "2022-08-04T07:25:53.890272",
     "exception": false,
     "start_time": "2022-08-04T07:25:52.031769",
     "status": "completed"
    },
    "tags": []
   },
   "outputs": [
    {
     "name": "stdout",
     "output_type": "stream",
     "text": [
      "Observations: 768\n",
      "Variables: 9\n",
      "cat_cols: 1\n",
      "num_cols: 8\n",
      "cat_but_car: 0\n",
      "num_but_cat: 1\n",
      "count   768.000\n",
      "mean      3.845\n",
      "std       3.370\n",
      "min       0.000\n",
      "5%        0.000\n",
      "10%       0.000\n",
      "20%       1.000\n",
      "30%       1.000\n",
      "40%       2.000\n",
      "50%       3.000\n",
      "60%       4.000\n",
      "70%       5.000\n",
      "80%       7.000\n",
      "90%       9.000\n",
      "95%      10.000\n",
      "99%      13.000\n",
      "max      17.000\n",
      "Name: Pregnancies, dtype: float64\n"
     ]
    },
    {
     "data": {
      "image/png": "[encoded data removed]",
      "text/plain": [
       "<Figure size 432x288 with 1 Axes>"
      ]
     },
     "metadata": {
      "needs_background": "light"
     },
     "output_type": "display_data"
    },
    {
     "name": "stdout",
     "output_type": "stream",
     "text": [
      "count   768.000\n",
      "mean    120.895\n",
      "std      31.973\n",
      "min       0.000\n",
      "5%       79.000\n",
      "10%      85.000\n",
      "20%      95.000\n",
      "30%     102.000\n",
      "40%     109.000\n",
      "50%     117.000\n",
      "60%     125.000\n",
      "70%     134.000\n",
      "80%     147.000\n",
      "90%     167.000\n",
      "95%     181.000\n",
      "99%     196.000\n",
      "max     199.000\n",
      "Name: Glucose, dtype: float64\n"
     ]
    },
    {
     "data": {
      "image/png": "[encoded data removed]",
      "text/plain": [
       "<Figure size 432x288 with 1 Axes>"
      ]
     },
     "metadata": {
      "needs_background": "light"
     },
     "output_type": "display_data"
    },
    {
     "name": "stdout",
     "output_type": "stream",
     "text": [
      "count   768.000\n",
      "mean     69.105\n",
      "std      19.356\n",
      "min       0.000\n",
      "5%       38.700\n",
      "10%      54.000\n",
      "20%      60.000\n",
      "30%      64.000\n",
      "40%      68.000\n",
      "50%      72.000\n",
      "60%      74.000\n",
      "70%      78.000\n",
      "80%      82.000\n",
      "90%      88.000\n",
      "95%      90.000\n",
      "99%     106.000\n",
      "max     122.000\n",
      "Name: BloodPressure, dtype: float64\n"
     ]
    },
    {
     "data": {
      "image/png": "[encoded data removed]",
      "text/plain": [
       "<Figure size 432x288 with 1 Axes>"
      ]
     },
     "metadata": {
      "needs_background": "light"
     },
     "output_type": "display_data"
    },
    {
     "name": "stdout",
     "output_type": "stream",
     "text": [
      "count   768.000\n",
      "mean     20.536\n",
      "std      15.952\n",
      "min       0.000\n",
      "5%        0.000\n",
      "10%       0.000\n",
      "20%       0.000\n",
      "30%       8.200\n",
      "40%      18.000\n",
      "50%      23.000\n",
      "60%      27.000\n",
      "70%      31.000\n",
      "80%      35.000\n",
      "90%      40.000\n",
      "95%      44.000\n",
      "99%      51.330\n",
      "max      99.000\n",
      "Name: SkinThickness, dtype: float64\n"
     ]
    },
    {
     "data": {
      "image/png": "[encoded data removed]",
      "text/plain": [
       "<Figure size 432x288 with 1 Axes>"
      ]
     },
     "metadata": {
      "needs_background": "light"
     },
     "output_type": "display_data"
    },
    {
     "name": "stdout",
     "output_type": "stream",
     "text": [
      "count   768.000\n",
      "mean     79.799\n",
      "std     115.244\n",
      "min       0.000\n",
      "5%        0.000\n",
      "10%       0.000\n",
      "20%       0.000\n",
      "30%       0.000\n",
      "40%       0.000\n",
      "50%      30.500\n",
      "60%      72.200\n",
      "70%     106.000\n",
      "80%     150.000\n",
      "90%     210.000\n",
      "95%     293.000\n",
      "99%     519.900\n",
      "max     846.000\n",
      "Name: Insulin, dtype: float64\n"
     ]
    },
    {
     "data": {
      "image/png": "[encoded data removed]",
      "text/plain": [
       "<Figure size 432x288 with 1 Axes>"
      ]
     },
     "metadata": {
      "needs_background": "light"
     },
     "output_type": "display_data"
    },
    {
     "name": "stdout",
     "output_type": "stream",
     "text": [
      "count   768.000\n",
      "mean     31.993\n",
      "std       7.884\n",
      "min       0.000\n",
      "5%       21.800\n",
      "10%      23.600\n",
      "20%      25.900\n",
      "30%      28.200\n",
      "40%      30.100\n",
      "50%      32.000\n",
      "60%      33.700\n",
      "70%      35.490\n",
      "80%      37.800\n",
      "90%      41.500\n",
      "95%      44.395\n",
      "99%      50.759\n",
      "max      67.100\n",
      "Name: BMI, dtype: float64\n"
     ]
    },
    {
     "data": {
      "image/png": "[encoded data removed]",
      "text/plain": [
       "<Figure size 432x288 with 1 Axes>"
      ]
     },
     "metadata": {
      "needs_background": "light"
     },
     "output_type": "display_data"
    },
    {
     "name": "stdout",
     "output_type": "stream",
     "text": [
      "count   768.000\n",
      "mean      0.472\n",
      "std       0.331\n",
      "min       0.078\n",
      "5%        0.140\n",
      "10%       0.165\n",
      "20%       0.219\n",
      "30%       0.259\n",
      "40%       0.303\n",
      "50%       0.372\n",
      "60%       0.454\n",
      "70%       0.564\n",
      "80%       0.687\n",
      "90%       0.879\n",
      "95%       1.133\n",
      "99%       1.698\n",
      "max       2.420\n",
      "Name: DiabetesPedigreeFunction, dtype: float64\n"
     ]
    },
    {
     "data": {
      "image/png": "[encoded data removed]",
      "text/plain": [
       "<Figure size 432x288 with 1 Axes>"
      ]
     },
     "metadata": {
      "needs_background": "light"
     },
     "output_type": "display_data"
    },
    {
     "name": "stdout",
     "output_type": "stream",
     "text": [
      "count   768.000\n",
      "mean     33.241\n",
      "std      11.760\n",
      "min      21.000\n",
      "5%       21.000\n",
      "10%      22.000\n",
      "20%      23.000\n",
      "30%      25.000\n",
      "40%      27.000\n",
      "50%      29.000\n",
      "60%      33.000\n",
      "70%      38.000\n",
      "80%      42.600\n",
      "90%      51.000\n",
      "95%      58.000\n",
      "99%      67.000\n",
      "max      81.000\n",
      "Name: Age, dtype: float64\n"
     ]
    },
    {
     "data": {
      "image/png": "[encoded data removed]",
      "text/plain": [
       "<Figure size 432x288 with 1 Axes>"
      ]
     },
     "metadata": {
      "needs_background": "light"
     },
     "output_type": "display_data"
    },
    {
     "name": "stdout",
     "output_type": "stream",
     "text": [
      "   Outcome  Ratio\n",
      "0      500 65.104\n",
      "1      268 34.896\n",
      "##################### Outcome ############################\n"
     ]
    },
    {
     "data": {
      "image/png": "[encoded data removed]",
      "text/plain": [
       "<Figure size 432x288 with 1 Axes>"
      ]
     },
     "metadata": {
      "needs_background": "light"
     },
     "output_type": "display_data"
    }
   ],
   "source": [
    "\n",
    "# Numerical and Categorical Variable analysis:\n",
    "\n",
    "def grab_col_names (dataframe, categorical = 10, cardinal =20):\n",
    "\n",
    "    # categoricals\n",
    "    cat_cols = [col for col in dataframe.columns if dataframe[col].dtype == 'O']\n",
    "    #  [col for col in df.columns if str(df[col].dtypes) in [\"category\",\"object\",\"bool\"]]\n",
    "    cat_but_car = [col for col in dataframe.columns if dataframe[col].dtype == 'O' and\n",
    "                   dataframe[col].nunique() > cardinal]\n",
    "    num_but_cat = [col for col in dataframe.columns if dataframe[col].dtype != 'O' and\n",
    "                   dataframe[col].nunique() < categorical]\n",
    "    cat_cols += num_but_cat\n",
    "    cat_cols = [col for col in cat_cols if col not in cat_but_car]\n",
    "\n",
    "    # numericals\n",
    "\n",
    "    num_cols = [col for col in dataframe.columns if dataframe[col].dtype != 'O' and\n",
    "                col not in num_but_cat]\n",
    "\n",
    "    print(f\"Observations: {dataframe.shape[0]}\")\n",
    "    print(f\"Variables: {dataframe.shape[1]}\")\n",
    "    print(f'cat_cols: {len(cat_cols)}')\n",
    "    print(f'num_cols: {len(num_cols)}')\n",
    "    print(f'cat_but_car: {len(cat_but_car)}')\n",
    "    print(f'num_but_cat: {len(num_but_cat)}')\n",
    "    return cat_cols, num_cols, cat_but_car\n",
    "\n",
    "\n",
    "cat_cols, num_cols, cat_but_car = grab_col_names (df, categorical = 10, cardinal =20)\n",
    "\n",
    "# The only categorical variable is our target variable 'Pregnancies' and the target var.\n",
    "# Rest of the variables are numerical.\n",
    "# There is no categorical variable with high cardinality.\n",
    "\n",
    "# Numerical Variable Analysis\n",
    "def num_summary(dataframe, numeric_col, plot=False):\n",
    "    quantiles = [0.05, 0.10, 0.20, 0.30, 0.40, 0.50, 0.60, 0.70, 0.80, 0.90, 0.95, 0.99]\n",
    "    print(dataframe[numeric_col].describe(quantiles).T)\n",
    "\n",
    "    if plot:\n",
    "        dataframe[numeric_col].hist()\n",
    "        plt.xlabel(numeric_col)\n",
    "        plt.title(numeric_col)\n",
    "        plt.show(block=True)\n",
    "\n",
    "for col in num_cols:\n",
    "    num_summary(df, col, plot=True)\n",
    "\n",
    "# Results\n",
    "# In this dataset, majority has following characteritics;\n",
    "# 75-150 glucose levels\n",
    "# 60- 85 blood pressure\n",
    "# 0 - 40 skin tickness.\n",
    "# 0-100 insulin levels\n",
    "# 20-45 BMI\n",
    "# 20-35 Age\n",
    "# 0.0 - 0.5 Diabetes pedigree function.\n",
    "\n",
    "# Categorical Variable Analysis\n",
    "def cat_summary( dataframe, col_name, plot = False):\n",
    "    print(pd.DataFrame({col_name: dataframe[col_name].value_counts(),\n",
    "                       'Ratio':100 * dataframe[col_name].value_counts()/len(dataframe)}))\n",
    "    print('#####################',col_name,'############################')\n",
    "\n",
    "    if plot:\n",
    "        sns.countplot(x = dataframe[col_name], data = dataframe)\n",
    "        plt.show(block = True)\n",
    "\n",
    "for col in cat_cols:\n",
    "    cat_summary(df, col, plot = True)\n",
    "\n",
    "# Results:\n",
    "# In this dataset majority has following categorical characteristics:\n",
    "# Number of pregnancies 0-5.\n",
    "# Target variable / test result is negative(0).\n"
   ]
  },
  {
   "cell_type": "code",
   "execution_count": 8,
   "id": "c33149a6",
   "metadata": {
    "execution": {
     "iopub.execute_input": "2022-08-04T07:25:53.911680Z",
     "iopub.status.busy": "2022-08-04T07:25:53.910981Z",
     "iopub.status.idle": "2022-08-04T07:25:53.953057Z",
     "shell.execute_reply": "2022-08-04T07:25:53.951594Z"
    },
    "papermill": {
     "duration": 0.055583,
     "end_time": "2022-08-04T07:25:53.955759",
     "exception": false,
     "start_time": "2022-08-04T07:25:53.900176",
     "status": "completed"
    },
    "tags": []
   },
   "outputs": [
    {
     "name": "stdout",
     "output_type": "stream",
     "text": [
      "         Pregnancies\n",
      "Outcome             \n",
      "0              3.298\n",
      "1              4.866\n",
      "         Glucose\n",
      "Outcome         \n",
      "0        109.980\n",
      "1        141.257\n",
      "         BloodPressure\n",
      "Outcome               \n",
      "0               68.184\n",
      "1               70.825\n",
      "         SkinThickness\n",
      "Outcome               \n",
      "0               19.664\n",
      "1               22.164\n",
      "         Insulin\n",
      "Outcome         \n",
      "0         68.792\n",
      "1        100.336\n",
      "           BMI\n",
      "Outcome       \n",
      "0       30.304\n",
      "1       35.143\n",
      "         DiabetesPedigreeFunction\n",
      "Outcome                          \n",
      "0                           0.430\n",
      "1                           0.550\n",
      "           Age\n",
      "Outcome       \n",
      "0       31.190\n",
      "1       37.067\n"
     ]
    }
   ],
   "source": [
    "########################## Target Summary #############################################\n",
    "# Comparing Categorical Var. Values against the Target Var. Values\n",
    "df.groupby('Pregnancies').agg({'Outcome': ['mean', 'sum']}).reset_index().\\\n",
    "    sort_values(by = ('Outcome','sum'),ascending = False)\n",
    "\n",
    "def target_summary_with_cat(dataframe, target, categorical_col):\n",
    "    print(pd.DataFrame({\"TARGET_MEAN\": dataframe.groupby(categorical_col)[target].mean()}), end=\"\\n\\n\\n\")\n",
    "    \n",
    "# Comparing Numerical Var. Values against the Target Var. Values\n",
    "def target_summary_with_num(dataframe, target, numerical_col):\n",
    "    print(dataframe.groupby(target).agg({numerical_col: 'mean'}))\n",
    "\n",
    "for col in num_cols:\n",
    "    target_summary_with_num(df, 'Outcome', col)\n",
    "\n",
    "# Until now, INSULIN levels and GLUCOSE levels has some\n",
    "# distintive values. The mean difference for target variable in the other features\n",
    "# are closer.\n"
   ]
  },
  {
   "cell_type": "code",
   "execution_count": 9,
   "id": "a300e856",
   "metadata": {
    "execution": {
     "iopub.execute_input": "2022-08-04T07:25:53.976848Z",
     "iopub.status.busy": "2022-08-04T07:25:53.976040Z",
     "iopub.status.idle": "2022-08-04T07:25:54.032658Z",
     "shell.execute_reply": "2022-08-04T07:25:54.031096Z"
    },
    "papermill": {
     "duration": 0.069754,
     "end_time": "2022-08-04T07:25:54.035031",
     "exception": false,
     "start_time": "2022-08-04T07:25:53.965277",
     "status": "completed"
    },
    "tags": []
   },
   "outputs": [
    {
     "name": "stdout",
     "output_type": "stream",
     "text": [
      "Empty DataFrame\n",
      "Columns: [Pregnancies, Glucose, BloodPressure, SkinThickness, Insulin, BMI, DiabetesPedigreeFunction, Age, Outcome]\n",
      "Index: []\n",
      "Empty DataFrame\n",
      "Columns: [Pregnancies, Glucose, BloodPressure, SkinThickness, Insulin, BMI, DiabetesPedigreeFunction, Age, Outcome]\n",
      "Index: []\n",
      "    Pregnancies  Glucose  BloodPressure  SkinThickness  Insulin    BMI  DiabetesPedigreeFunction  Age  Outcome\n",
      "7            10      115              0              0        0 35.300                     0.134   29        0\n",
      "15            7      100              0              0        0 30.000                     0.484   32        1\n",
      "49            7      105              0              0        0  0.000                     0.305   24        0\n",
      "60            2       84              0              0        0  0.000                     0.304   21        0\n",
      "78            0      131              0              0        0 43.200                     0.270   26        1\n",
      "     Pregnancies  Glucose  BloodPressure  SkinThickness  Insulin    BMI  DiabetesPedigreeFunction  Age  Outcome\n",
      "8              2      197             70             45      543 30.500                     0.158   53        1\n",
      "13             1      189             60             23      846 30.100                     0.398   59        1\n",
      "228            4      197             70             39      744 36.700                     2.329   31        0\n",
      "247            0      165             90             33      680 52.300                     0.427   23        0\n",
      "286            5      155             84             44      545 38.700                     0.619   34        0\n",
      "409            1      172             68             49      579 42.400                     0.702   28        1\n",
      "584            8      124             76             24      600 28.700                     0.687   52        1\n",
      "655            2      155             52             27      540 38.700                     0.240   25        1\n",
      "Empty DataFrame\n",
      "Columns: [Pregnancies, Glucose, BloodPressure, SkinThickness, Insulin, BMI, DiabetesPedigreeFunction, Age, Outcome]\n",
      "Index: []\n",
      "     Pregnancies  Glucose  BloodPressure  SkinThickness  Insulin    BMI  DiabetesPedigreeFunction  Age  Outcome\n",
      "4              0      137             40             35      168 43.100                     2.288   33        1\n",
      "228            4      197             70             39      744 36.700                     2.329   31        0\n",
      "370            3      173             82             48      465 38.400                     2.137   25        1\n",
      "445            0      180             78             63       14 59.400                     2.420   25        1\n",
      "Empty DataFrame\n",
      "Columns: [Pregnancies, Glucose, BloodPressure, SkinThickness, Insulin, BMI, DiabetesPedigreeFunction, Age, Outcome]\n",
      "Index: []\n"
     ]
    },
    {
     "data": {
      "text/plain": [
       "Int64Index([], dtype='int64')"
      ]
     },
     "execution_count": 9,
     "metadata": {},
     "output_type": "execute_result"
    }
   ],
   "source": [
    "\n",
    "########################## Outlier Analysis #############################################\n",
    "\n",
    "def outlier_thresholds(dataframe, col_name, q1=0.10, q3=0.90):\n",
    "    quartile1 = dataframe[col_name].quantile(q1)\n",
    "    quartile3 = dataframe[col_name].quantile(q3)\n",
    "    interquantile_range = quartile3 - quartile1\n",
    "    up_limit = quartile3 + 1.5 * interquantile_range\n",
    "    low_limit = quartile1 - 1.5 * interquantile_range\n",
    "    return low_limit, up_limit\n",
    "\n",
    "\n",
    "def replace_with_thresholds(dataframe, variable):\n",
    "    low_limit, up_limit = outlier_thresholds(dataframe, variable)\n",
    "    dataframe.loc[(dataframe[variable] < low_limit), variable] = low_limit\n",
    "    dataframe.loc[(dataframe[variable] > up_limit), variable] = up_limit\n",
    "\n",
    "\n",
    "def check_outlier(dataframe, col_name):\n",
    "    low_limit, up_limit = outlier_thresholds(dataframe, col_name)\n",
    "    if dataframe[(dataframe[col_name] > up_limit) | (dataframe[col_name] < low_limit)].any(axis=None):\n",
    "        return True\n",
    "    else:\n",
    "        return False\n",
    "\n",
    "def grab_outliers(dataframe, col_name, index=False):\n",
    "    low, up = outlier_thresholds(dataframe, col_name)\n",
    "\n",
    "    if dataframe[((dataframe[col_name] < low) | (dataframe[col_name] > up))].shape[0] > 10:\n",
    "        print(dataframe[((dataframe[col_name] < low) | (dataframe[col_name] > up))].head())\n",
    "    else:\n",
    "        print(dataframe[((dataframe[col_name] < low) | (dataframe[col_name] > up))])\n",
    "\n",
    "    if index:\n",
    "        outlier_index = dataframe[((dataframe[col_name] < low) | (dataframe[col_name] > up))].index\n",
    "        return outlier_index\n",
    "\n",
    "\n",
    "num_cols\n",
    "# Out: ['Glucose',\n",
    "#  'BloodPressure',\n",
    "#  'SkinThickness',\n",
    "#  'Insulin',\n",
    "#  'BMI',\n",
    "#  'DiabetesPedigreeFunction',\n",
    "#  'Age']\n",
    "\n",
    "grab_outliers(df, 'Pregnancies', True)\n",
    "grab_outliers(df, 'Glucose', True)\n",
    "grab_outliers(df, 'BloodPressure',True)\n",
    "grab_outliers(df, 'Insulin',True)\n",
    "grab_outliers(df, 'BMI',True)\n",
    "grab_outliers(df, 'DiabetesPedigreeFunction',True)\n",
    "grab_outliers(df, 'Age',True)\n"
   ]
  },
  {
   "cell_type": "code",
   "execution_count": 10,
   "id": "f59afebc",
   "metadata": {
    "execution": {
     "iopub.execute_input": "2022-08-04T07:25:54.055930Z",
     "iopub.status.busy": "2022-08-04T07:25:54.055515Z",
     "iopub.status.idle": "2022-08-04T07:25:54.070613Z",
     "shell.execute_reply": "2022-08-04T07:25:54.069330Z"
    },
    "papermill": {
     "duration": 0.028601,
     "end_time": "2022-08-04T07:25:54.073252",
     "exception": false,
     "start_time": "2022-08-04T07:25:54.044651",
     "status": "completed"
    },
    "tags": []
   },
   "outputs": [
    {
     "name": "stdout",
     "output_type": "stream",
     "text": [
      "Empty DataFrame\n",
      "Columns: [n_miss, ratio]\n",
      "Index: []\n"
     ]
    }
   ],
   "source": [
    "\n",
    "########################## NaN Value Analysis #############################################\n",
    "\n",
    "\n",
    "def missing_values_table(dataframe, na_name=False):\n",
    "    na_columns = [col for col in dataframe.columns if dataframe[col].isnull().sum() > 0]\n",
    "\n",
    "    n_miss = dataframe[na_columns].isnull().sum().sort_values(ascending=False)\n",
    "    ratio = (dataframe[na_columns].isnull().sum() / dataframe.shape[0] * 100).sort_values(ascending=False)\n",
    "    missing_df = pd.concat([n_miss, np.round(ratio, 2)], axis=1, keys=['n_miss', 'ratio'])\n",
    "    print(missing_df, end=\"\\n\")\n",
    "\n",
    "    if na_name:\n",
    "        return na_columns\n",
    "\n",
    "missing_values_table(df)\n",
    "# No missing values detected.\n"
   ]
  },
  {
   "cell_type": "code",
   "execution_count": 11,
   "id": "6e0663a4",
   "metadata": {
    "execution": {
     "iopub.execute_input": "2022-08-04T07:25:54.094354Z",
     "iopub.status.busy": "2022-08-04T07:25:54.093949Z",
     "iopub.status.idle": "2022-08-04T07:25:54.475531Z",
     "shell.execute_reply": "2022-08-04T07:25:54.474396Z"
    },
    "papermill": {
     "duration": 0.395012,
     "end_time": "2022-08-04T07:25:54.478139",
     "exception": false,
     "start_time": "2022-08-04T07:25:54.083127",
     "status": "completed"
    },
    "tags": []
   },
   "outputs": [
    {
     "data": {
      "image/png": "[encoded data removed]",
      "text/plain": [
       "<Figure size 720x720 with 2 Axes>"
      ]
     },
     "metadata": {
      "needs_background": "light"
     },
     "output_type": "display_data"
    }
   ],
   "source": [
    "\n",
    "########################## Correlation Analysis #############################################\n",
    "\n",
    "\"\"\"corr = df[num_cols].corr()\n",
    "\n",
    "sns.set(rc={'figure.figsize': (12, 12)})\n",
    "sns.heatmap(corr, cmap=\"RdBu\")\n",
    "plt.show()\"\"\"\n",
    "\n",
    "# Insulin - Glucose relationship is above +0.30\n",
    "# Insulin - Skin Thickness is around +0.43\n",
    "# BMI - Skin Thickness is nearly +0.40\n",
    "# Correlation between the other numeric features are\n",
    "# even lower than these values.\n",
    "# As a result, I did not find any high correlation (like above %70) variables\n",
    "# in this dataset.\n",
    "\n",
    "\"\"\"df.corr()\"\"\"\n",
    "\n",
    "# In correlation matrix, I dont think I should compare categoric var. with numerics but,\n",
    "# when I add pregnancy and the target val to our comparison\n",
    "# I notice the relationship between age and pregnancy (0.54)\n",
    "# Also Glucose level and the Outcome result. (nearly 0.5)\n",
    "\n",
    "correlation_matrix = df[num_cols].corr()\n",
    "plt.figure(figsize=(10, 10))\n",
    "ax = sns.heatmap(\n",
    "    correlation_matrix,\n",
    "    vmax=1,\n",
    "    square=True,\n",
    "    annot=True,\n",
    "    fmt='.2f',\n",
    "    cmap='GnBu',\n",
    "    cbar_kws={\"shrink\": .5},\n",
    "    robust=True)\n",
    "plt.title('Özelliklerin Korelasyon Matrisi', fontsize=27)\n",
    "plt.show()\n",
    "\n"
   ]
  },
  {
   "cell_type": "code",
   "execution_count": 12,
   "id": "77a30132",
   "metadata": {
    "execution": {
     "iopub.execute_input": "2022-08-04T07:25:54.502007Z",
     "iopub.status.busy": "2022-08-04T07:25:54.501229Z",
     "iopub.status.idle": "2022-08-04T07:25:54.576209Z",
     "shell.execute_reply": "2022-08-04T07:25:54.574452Z"
    },
    "papermill": {
     "duration": 0.090307,
     "end_time": "2022-08-04T07:25:54.579394",
     "exception": false,
     "start_time": "2022-08-04T07:25:54.489087",
     "status": "completed"
    },
    "tags": []
   },
   "outputs": [
    {
     "name": "stdout",
     "output_type": "stream",
     "text": [
      "               n_miss  ratio\n",
      "Insulin           374 48.700\n",
      "SkinThickness     227 29.560\n",
      "BloodPressure      35  4.560\n",
      "BMI                11  1.430\n",
      "Glucose             5  0.650\n",
      "                 TARGET_MEAN  Count\n",
      "Glucose_NA_FLAG                    \n",
      "0                      0.349    763\n",
      "1                      0.400      5\n",
      "\n",
      "\n",
      "                       TARGET_MEAN  Count\n",
      "BloodPressure_NA_FLAG                    \n",
      "0                            0.344    733\n",
      "1                            0.457     35\n",
      "\n",
      "\n",
      "                       TARGET_MEAN  Count\n",
      "SkinThickness_NA_FLAG                    \n",
      "0                            0.333    541\n",
      "1                            0.388    227\n",
      "\n",
      "\n",
      "                 TARGET_MEAN  Count\n",
      "Insulin_NA_FLAG                    \n",
      "0                      0.330    394\n",
      "1                      0.369    374\n",
      "\n",
      "\n",
      "             TARGET_MEAN  Count\n",
      "BMI_NA_FLAG                    \n",
      "0                  0.351    757\n",
      "1                  0.182     11\n",
      "\n",
      "\n"
     ]
    }
   ],
   "source": [
    "\n",
    "################################################################################################\n",
    "# 2. Feature Engineering\n",
    "################################################################################################\n",
    "\n",
    "# Handling NaN.\n",
    "\n",
    "df.isnull().sum()\n",
    "# As I stated in section 1.0, this dataset does not contain any NaN value. However,\n",
    "# datasource tells us that some features like Glucose, Insulin cannot have 0 value.\n",
    "# Therefore, we might need to count them as NAN. Let's check descripteves of the variables again.\n",
    "\n",
    "df.describe().T\n",
    "\n",
    "# Glucose\n",
    "# BloodPressure\n",
    "# SkinThickness\n",
    "# Insulin\n",
    "# BMI :Based on these figures a mean BMI of 12 as the lower limit for human survival emerges - a value first proposed by James et al (1988)\n",
    "# Thus, for these features, we will count 0 as NaN values. Why not outlier??\n",
    "# BMI lower than 12 will also be NaN\n",
    "# 90/60mmHg or less is considered the lowest blood pressure before death.\n",
    "\n",
    "df[df['BloodPressure']<60]['BloodPressure'].count() #121\n",
    "df[df['BloodPressure']<60].index\n",
    "df[df['BMI']<12]['BMI'].count() #11\n",
    "df[df['BMI']<12]['BMI'].index\n",
    "df[df['Insulin'] ==0]['Insulin'].count() #374\n",
    "df[df['Insulin'] ==0]['Insulin'].index\n",
    "df[df['SkinThickness'] == 0]['SkinThickness'].count() #227\n",
    "df[df['SkinThickness'] == 0]['SkinThickness'].index\n",
    "df[(df['BloodPressure']<60) & (df['Insulin'] ==0) & (df['SkinThickness'] == 0)].count() #47\n",
    "\n",
    "# Lets replace 0's with NaN values first.\n",
    "df['BloodPressure'].replace(0, np.nan, inplace = True)\n",
    "df['BMI'].replace(0, np.nan, inplace = True)\n",
    "df['Insulin'].replace(0, np.nan, inplace = True)\n",
    "df['SkinThickness'].replace(0, np.nan, inplace = True)\n",
    "df['Glucose'].replace(0, np.nan, inplace = True)\n",
    "df.isnull().sum()\n",
    "\n",
    "\n",
    "missing_values_table(df)\n",
    "# Almost 50% of the Insulin feature is missing.\n",
    "# Almost 30% of  the SkinThickness feature is missing.\n",
    "\n",
    "\n",
    "# The relationship between the missings and the target var.\n",
    "na_cols = [col for col in df.columns if df[col].isnull().sum() != 0]\n",
    "def missing_vs_target(dataframe, target, na_columns):\n",
    "    temp_df = dataframe.copy()\n",
    "\n",
    "    for col in na_columns:\n",
    "        temp_df[col + '_NA_FLAG'] = np.where(temp_df[col].isnull(), 1, 0)\n",
    "\n",
    "    na_flags = temp_df.loc[:, temp_df.columns.str.contains(\"_NA_\")].columns\n",
    "\n",
    "    for col in na_flags:\n",
    "        print(pd.DataFrame({\"TARGET_MEAN\": temp_df.groupby(col)[target].mean(),\n",
    "                            \"Count\": temp_df.groupby(col)[target].count()}), end=\"\\n\\n\\n\")\n",
    "\n",
    "\n",
    "missing_vs_target(df, \"Outcome\", na_cols)\n",
    "# BloodPressure : if NaN -> Target_mean = 0.45. if value -> Target is lower(0.34). 35 NaN.\n",
    "# SkinThickness : if NaN -> Target_mean = 0.38. if value -> Target is lower(0.33). 227 NaN.\n",
    "# Insulin       : if NaN -> Target_mean = 0.36. if Value-> Target is lower(0.33). 374 NaN.\n",
    "# BMI           : if NaN -> Target_mean = 0.18. if value -> 0.35. 11 NaN.\n"
   ]
  },
  {
   "cell_type": "code",
   "execution_count": 13,
   "id": "775e9472",
   "metadata": {
    "execution": {
     "iopub.execute_input": "2022-08-04T07:25:54.604590Z",
     "iopub.status.busy": "2022-08-04T07:25:54.603962Z",
     "iopub.status.idle": "2022-08-04T07:25:54.630488Z",
     "shell.execute_reply": "2022-08-04T07:25:54.629359Z"
    },
    "papermill": {
     "duration": 0.041329,
     "end_time": "2022-08-04T07:25:54.633057",
     "exception": false,
     "start_time": "2022-08-04T07:25:54.591728",
     "status": "completed"
    },
    "tags": []
   },
   "outputs": [
    {
     "data": {
      "text/plain": [
       "Pregnancies                 0\n",
       "Glucose                     0\n",
       "BloodPressure               0\n",
       "SkinThickness               0\n",
       "Insulin                     0\n",
       "BMI                         0\n",
       "DiabetesPedigreeFunction    0\n",
       "Age                         0\n",
       "Outcome                     0\n",
       "dtype: int64"
      ]
     },
     "execution_count": 13,
     "metadata": {},
     "output_type": "execute_result"
    }
   ],
   "source": [
    "############################# Filling Missing Values ####################################\n",
    "\n",
    "#1. SkinThickness:\n",
    "\n",
    "df.groupby('Outcome').agg({'SkinThickness': 'median'})\n",
    "# OUT: 0:27 1:32\n",
    "# I decided to fill skinThickness NaN values with their median value.\n",
    "# 27 for a healthy person and 32 for a diabetic person\n",
    "df['SkinThickness'].fillna(df.groupby('Outcome')['SkinThickness'].transform('median'), inplace = True)\n",
    "#df.loc[(df['SkinThickness'].isnull() & df['Outcome'] == 0), 'SkinThickness'] = 27\n",
    "#df.loc[(df['SkinThickness'].isnull() & df['Outcome'] == 1), 'SkinThickness'] = 27\n",
    "df.isnull().sum()\n",
    "\n",
    "#2. Insulin:\n",
    "\n",
    "df.groupby('Outcome').agg({'Insulin': 'median'})\n",
    "# OUT: 0:102.5 1:169.5\n",
    "# Fill with the median value.\n",
    "df['Insulin'].fillna(df.groupby('Outcome')['Insulin'].transform('median'),inplace = True)\n",
    "df.isnull().sum()\n",
    "\n",
    "#3. BloodPressure:\n",
    "\n",
    "df['BloodPressure'].fillna(df.groupby('Outcome')['BloodPressure'].transform('median'),inplace = True)\n",
    "df.isnull().sum()\n",
    "\n",
    "#4. BloodPressure:\n",
    "\n",
    "df['BMI'].fillna(df.groupby('Outcome')['BMI'].transform('median'),inplace = True)\n",
    "df.isnull().sum()\n",
    "\n",
    "\n",
    "#4. Glucose:\n",
    "\n",
    "df['Glucose'].fillna(df.groupby('Outcome')['Glucose'].transform('median'),inplace = True)\n",
    "df.isnull().sum()\n",
    "\n",
    "# Approach 2: Finding out the bloodpressure value from insulin and glucose???\n",
    "# df[df['BloodPressure'].isnull()].head(45)\n",
    "# It seems that when the bloodpressure is NaN, the insulin is also NaN.\n",
    "# To see the correlations between missing values;\n",
    "#msno.bar(df)\n",
    "#plt.show()\n"
   ]
  },
  {
   "cell_type": "code",
   "execution_count": 14,
   "id": "882df590",
   "metadata": {
    "execution": {
     "iopub.execute_input": "2022-08-04T07:25:54.657796Z",
     "iopub.status.busy": "2022-08-04T07:25:54.657054Z",
     "iopub.status.idle": "2022-08-04T07:25:54.713596Z",
     "shell.execute_reply": "2022-08-04T07:25:54.712655Z"
    },
    "papermill": {
     "duration": 0.071796,
     "end_time": "2022-08-04T07:25:54.716240",
     "exception": false,
     "start_time": "2022-08-04T07:25:54.644444",
     "status": "completed"
    },
    "tags": []
   },
   "outputs": [],
   "source": [
    "\n",
    "############################# Generating New Features ####################################\n",
    "\n",
    "df['NEW_GLUCOSE'] = pd.cut(x = df['Glucose'], bins = [-1,80,140,160,200],\n",
    "                               labels = ['Hypoglecimia','Normal', 'Prediabetes', 'Diabetic_Glucose']) # 2 hour\n",
    "\n",
    "df['NEW_AGE'] = pd.cut( x = df['Age'], bins = [18,44,64,100],\n",
    "                               labels = ['Adults', 'MiddleAged' , 'Senior'])\n",
    "\n",
    "\n",
    "df['NEW_BLOOD_PRESSURE'] = pd.cut(x = df['BloodPressure'], bins = [0,80,89,120,300],\n",
    "                               labels = ['Normal', 'High_Blood_Pressure' , 'Hypertension', 'Hypertension_Crisis'])\n",
    "\n",
    "df['NEW_INSULIN'] = pd.cut(x= df['Insulin'], bins = [0, 120, 1000], labels = ['Normal','Abnormal'])\n",
    "\n",
    "df['NEW_BMI'] = pd.cut(x = df['BMI'], bins = [0,18,25,29,68], labels = ['Underweight', 'Normal', 'Overweight', 'Obesity'])\n",
    "\n",
    "df['Pregnancies'].describe()\n",
    "\n",
    "#df.loc[(df['Pregnancies'] == 0), 'PREGNANT_CAT_NEW']  = 'NO_TIME'\n",
    "#df.loc[(df['Pregnancies'] == 1), 'PREGNANT_CAT_NEW']  = 'ONE_TIME'\n",
    "#df.loc[(df['Pregnancies'] > 1), 'PREGNANT_CAT_NEW']   = 'MANY_TIME'\n",
    "\n",
    "\n",
    "# # Yaş ve beden kitle indeksini bir arada düşünerek kategorik değişken oluşturma 3 kırılım yakalandı\n",
    "#df.loc[(df[\"BMI\"] < 18.5) & ((df[\"Age\"] >= 21) & (df[\"Age\"] < 50)), \"NEW_AGE_BMI_NOM\"] = \"underweightmature\"\n",
    "#df.loc[(df[\"BMI\"] < 18.5) & (df[\"Age\"] >= 50), \"NEW_AGE_BMI_NOM\"] = \"underweightsenior\"\n",
    "#df.loc[((df[\"BMI\"] >= 18.5) & (df[\"BMI\"] < 25)) & ((df[\"Age\"] >= 21) & (df[\"Age\"] < 50)), \"NEW_AGE_BMI_NOM\"] = \"healthymature\"\n",
    "#df.loc[((df[\"BMI\"] >= 18.5) & (df[\"BMI\"] < 25)) & (df[\"Age\"] >= 50), \"NEW_AGE_BMI_NOM\"] = \"healthysenior\"\n",
    "#df.loc[((df[\"BMI\"] >= 25) & (df[\"BMI\"] < 30)) & ((df[\"Age\"] >= 21) & (df[\"Age\"] < 50)), \"NEW_AGE_BMI_NOM\"] = \"overweightmature\"\n",
    "#df.loc[((df[\"BMI\"] >= 25) & (df[\"BMI\"] < 30)) & (df[\"Age\"] >= 50), \"NEW_AGE_BMI_NOM\"] = \"overweightsenior\"\n",
    "#df.loc[(df[\"BMI\"] > 18.5) & ((df[\"Age\"] >= 21) & (df[\"Age\"] < 50)), \"NEW_AGE_BMI_NOM\"] = \"obesemature\"\n",
    "#df.loc[(df[\"BMI\"] > 18.5) & (df[\"Age\"] >= 50), \"NEW_AGE_BMI_NOM\"] = \"obesesenior\"\n",
    "\n",
    "# Yaş ve Glikoz değerlerini bir arada düşünerek kategorik değişken oluşturma\n",
    "#df.loc[(df[\"Glucose\"] < 70) & ((df[\"Age\"] >= 21) & (df[\"Age\"] < 50)), \"NEW_AGE_GLUCOSE_NOM\"] = \"lowmature\"\n",
    "#df.loc[(df[\"Glucose\"] < 70) & (df[\"Age\"] >= 50), \"NEW_AGE_GLUCOSE_NOM\"] = \"lowsenior\"\n",
    "#df.loc[((df[\"Glucose\"] >= 70) & (df[\"Glucose\"] < 100)) & ((df[\"Age\"] >= 21) & (df[\"Age\"] < 50)), \"NEW_AGE_GLUCOSE_NOM\"] = \"normalmature\"\n",
    "#df.loc[((df[\"Glucose\"] >= 70) & (df[\"Glucose\"] < 100)) & (df[\"Age\"] >= 50), \"NEW_AGE_GLUCOSE_NOM\"] = \"normalsenior\"\n",
    "#df.loc[((df[\"Glucose\"] >= 100) & (df[\"Glucose\"] <= 125)) & ((df[\"Age\"] >= 21) & (df[\"Age\"] < 50)), \"NEW_AGE_GLUCOSE_NOM\"] = \"hiddenmature\"\n",
    "#df.loc[((df[\"Glucose\"] >= 100) & (df[\"Glucose\"] <= 125)) & (df[\"Age\"] >= 50), \"NEW_AGE_GLUCOSE_NOM\"] = \"hiddensenior\"\n",
    "#df.loc[(df[\"Glucose\"] > 125) & ((df[\"Age\"] >= 21) & (df[\"Age\"] < 50)), \"NEW_AGE_GLUCOSE_NOM\"] = \"highmature\"\n",
    "#df.loc[(df[\"Glucose\"] > 125) & (df[\"Age\"] >= 50), \"NEW_AGE_GLUCOSE_NOM\"] = \"highsenior\"\n",
    "\n",
    "df[\"NEW_GLUCOSE_INSULIN\"] = df[\"Glucose\"] * df[\"Insulin\"]\n",
    "df[\"NEW_BMI_SKINTHICKNESS\"] = df[\"BMI\"] * df[\"SkinThickness\"]\n",
    "df[\"NEW_BMI_PREGNANCIES\"] = df[\"BMI\"] * df[\"Pregnancies\"]\n",
    "df[\"NEW_BMI_AGE\"] = df[\"BMI\"] * df[\"Age\"]\n"
   ]
  },
  {
   "cell_type": "code",
   "execution_count": 15,
   "id": "48f453d6",
   "metadata": {
    "execution": {
     "iopub.execute_input": "2022-08-04T07:25:54.739579Z",
     "iopub.status.busy": "2022-08-04T07:25:54.739011Z",
     "iopub.status.idle": "2022-08-04T07:25:54.783123Z",
     "shell.execute_reply": "2022-08-04T07:25:54.782223Z"
    },
    "papermill": {
     "duration": 0.058318,
     "end_time": "2022-08-04T07:25:54.785355",
     "exception": false,
     "start_time": "2022-08-04T07:25:54.727037",
     "status": "completed"
    },
    "tags": []
   },
   "outputs": [
    {
     "name": "stdout",
     "output_type": "stream",
     "text": [
      "         NEW_AGE_PREGNANCY\n",
      "Outcome                   \n",
      "0                  122.988\n",
      "1                  198.549\n"
     ]
    },
    {
     "data": {
      "text/html": [
       "<div>\n",
       "<style scoped>\n",
       "    .dataframe tbody tr th:only-of-type {\n",
       "        vertical-align: middle;\n",
       "    }\n",
       "\n",
       "    .dataframe tbody tr th {\n",
       "        vertical-align: top;\n",
       "    }\n",
       "\n",
       "    .dataframe thead th {\n",
       "        text-align: right;\n",
       "    }\n",
       "</style>\n",
       "<table border=\"1\" class=\"dataframe\">\n",
       "  <thead>\n",
       "    <tr style=\"text-align: right;\">\n",
       "      <th></th>\n",
       "      <th>Pregnancies</th>\n",
       "      <th>Glucose</th>\n",
       "      <th>BloodPressure</th>\n",
       "      <th>SkinThickness</th>\n",
       "      <th>Insulin</th>\n",
       "      <th>BMI</th>\n",
       "      <th>DiabetesPedigreeFunction</th>\n",
       "      <th>Age</th>\n",
       "      <th>Outcome</th>\n",
       "      <th>NEW_GLUCOSE</th>\n",
       "      <th>NEW_AGE</th>\n",
       "      <th>NEW_BLOOD_PRESSURE</th>\n",
       "      <th>NEW_INSULIN</th>\n",
       "      <th>NEW_BMI</th>\n",
       "      <th>NEW_GLUCOSE_INSULIN</th>\n",
       "      <th>NEW_BMI_SKINTHICKNESS</th>\n",
       "      <th>NEW_BMI_PREGNANCIES</th>\n",
       "      <th>NEW_BMI_AGE</th>\n",
       "      <th>NEW_AGE_PREGNANCY</th>\n",
       "    </tr>\n",
       "  </thead>\n",
       "  <tbody>\n",
       "    <tr>\n",
       "      <th>0</th>\n",
       "      <td>6</td>\n",
       "      <td>148.000</td>\n",
       "      <td>72.000</td>\n",
       "      <td>35.000</td>\n",
       "      <td>169.500</td>\n",
       "      <td>33.600</td>\n",
       "      <td>0.627</td>\n",
       "      <td>50</td>\n",
       "      <td>1</td>\n",
       "      <td>Prediabetes</td>\n",
       "      <td>MiddleAged</td>\n",
       "      <td>Normal</td>\n",
       "      <td>Abnormal</td>\n",
       "      <td>Obesity</td>\n",
       "      <td>25086.000</td>\n",
       "      <td>1176.000</td>\n",
       "      <td>201.600</td>\n",
       "      <td>1680.000</td>\n",
       "      <td>300</td>\n",
       "    </tr>\n",
       "    <tr>\n",
       "      <th>1</th>\n",
       "      <td>1</td>\n",
       "      <td>85.000</td>\n",
       "      <td>66.000</td>\n",
       "      <td>29.000</td>\n",
       "      <td>102.500</td>\n",
       "      <td>26.600</td>\n",
       "      <td>0.351</td>\n",
       "      <td>31</td>\n",
       "      <td>0</td>\n",
       "      <td>Normal</td>\n",
       "      <td>Adults</td>\n",
       "      <td>Normal</td>\n",
       "      <td>Normal</td>\n",
       "      <td>Overweight</td>\n",
       "      <td>8712.500</td>\n",
       "      <td>771.400</td>\n",
       "      <td>26.600</td>\n",
       "      <td>824.600</td>\n",
       "      <td>31</td>\n",
       "    </tr>\n",
       "    <tr>\n",
       "      <th>2</th>\n",
       "      <td>8</td>\n",
       "      <td>183.000</td>\n",
       "      <td>64.000</td>\n",
       "      <td>32.000</td>\n",
       "      <td>169.500</td>\n",
       "      <td>23.300</td>\n",
       "      <td>0.672</td>\n",
       "      <td>32</td>\n",
       "      <td>1</td>\n",
       "      <td>Diabetic_Glucose</td>\n",
       "      <td>Adults</td>\n",
       "      <td>Normal</td>\n",
       "      <td>Abnormal</td>\n",
       "      <td>Normal</td>\n",
       "      <td>31018.500</td>\n",
       "      <td>745.600</td>\n",
       "      <td>186.400</td>\n",
       "      <td>745.600</td>\n",
       "      <td>256</td>\n",
       "    </tr>\n",
       "    <tr>\n",
       "      <th>3</th>\n",
       "      <td>1</td>\n",
       "      <td>89.000</td>\n",
       "      <td>66.000</td>\n",
       "      <td>23.000</td>\n",
       "      <td>94.000</td>\n",
       "      <td>28.100</td>\n",
       "      <td>0.167</td>\n",
       "      <td>21</td>\n",
       "      <td>0</td>\n",
       "      <td>Normal</td>\n",
       "      <td>Adults</td>\n",
       "      <td>Normal</td>\n",
       "      <td>Normal</td>\n",
       "      <td>Overweight</td>\n",
       "      <td>8366.000</td>\n",
       "      <td>646.300</td>\n",
       "      <td>28.100</td>\n",
       "      <td>590.100</td>\n",
       "      <td>21</td>\n",
       "    </tr>\n",
       "    <tr>\n",
       "      <th>4</th>\n",
       "      <td>0</td>\n",
       "      <td>137.000</td>\n",
       "      <td>40.000</td>\n",
       "      <td>35.000</td>\n",
       "      <td>168.000</td>\n",
       "      <td>43.100</td>\n",
       "      <td>2.288</td>\n",
       "      <td>33</td>\n",
       "      <td>1</td>\n",
       "      <td>Normal</td>\n",
       "      <td>Adults</td>\n",
       "      <td>Normal</td>\n",
       "      <td>Abnormal</td>\n",
       "      <td>Obesity</td>\n",
       "      <td>23016.000</td>\n",
       "      <td>1508.500</td>\n",
       "      <td>0.000</td>\n",
       "      <td>1422.300</td>\n",
       "      <td>0</td>\n",
       "    </tr>\n",
       "  </tbody>\n",
       "</table>\n",
       "</div>"
      ],
      "text/plain": [
       "   Pregnancies  Glucose  BloodPressure  SkinThickness  Insulin    BMI  DiabetesPedigreeFunction  Age  Outcome       NEW_GLUCOSE     NEW_AGE NEW_BLOOD_PRESSURE NEW_INSULIN     NEW_BMI  NEW_GLUCOSE_INSULIN  NEW_BMI_SKINTHICKNESS  NEW_BMI_PREGNANCIES  NEW_BMI_AGE  NEW_AGE_PREGNANCY\n",
       "0            6  148.000         72.000         35.000  169.500 33.600                     0.627   50        1       Prediabetes  MiddleAged             Normal    Abnormal     Obesity            25086.000               1176.000              201.600     1680.000                300\n",
       "1            1   85.000         66.000         29.000  102.500 26.600                     0.351   31        0            Normal      Adults             Normal      Normal  Overweight             8712.500                771.400               26.600      824.600                 31\n",
       "2            8  183.000         64.000         32.000  169.500 23.300                     0.672   32        1  Diabetic_Glucose      Adults             Normal    Abnormal      Normal            31018.500                745.600              186.400      745.600                256\n",
       "3            1   89.000         66.000         23.000   94.000 28.100                     0.167   21        0            Normal      Adults             Normal      Normal  Overweight             8366.000                646.300               28.100      590.100                 21\n",
       "4            0  137.000         40.000         35.000  168.000 43.100                     2.288   33        1            Normal      Adults             Normal    Abnormal     Obesity            23016.000               1508.500                0.000     1422.300                  0"
      ]
     },
     "execution_count": 15,
     "metadata": {},
     "output_type": "execute_result"
    }
   ],
   "source": [
    "df['NEW_AGE_PREGNANCY'] = df['Pregnancies']*df['Age']\n",
    "target_summary_with_num(df, 'Outcome', 'NEW_AGE_PREGNANCY')\n",
    "df['NEW_AGE_PREGNANCY'].describe()\n",
    "#df['Age_Numberofpregnancy_CAT'] = pd.cut(x = df['Age_Numberofpregnancy'], bins = [0,125, 170 ,800])\n",
    "#df.groupby('Age_Numberofpregnancy_CAT').agg({'Outcome': ['mean', 'sum']}).reset_index().\\\n",
    "    #sort_values(by = ('Outcome','sum'),ascending = False)\n",
    "\n",
    "df.head()\n"
   ]
  },
  {
   "cell_type": "code",
   "execution_count": 16,
   "id": "e8e4cd18",
   "metadata": {
    "execution": {
     "iopub.execute_input": "2022-08-04T07:25:54.810354Z",
     "iopub.status.busy": "2022-08-04T07:25:54.809660Z",
     "iopub.status.idle": "2022-08-04T07:25:54.881785Z",
     "shell.execute_reply": "2022-08-04T07:25:54.880570Z"
    },
    "papermill": {
     "duration": 0.087727,
     "end_time": "2022-08-04T07:25:54.884490",
     "exception": false,
     "start_time": "2022-08-04T07:25:54.796763",
     "status": "completed"
    },
    "tags": []
   },
   "outputs": [
    {
     "name": "stdout",
     "output_type": "stream",
     "text": [
      "Observations: 768\n",
      "Variables: 19\n",
      "cat_cols: 6\n",
      "num_cols: 13\n",
      "cat_but_car: 0\n",
      "num_but_cat: 6\n",
      "Empty DataFrame\n",
      "Columns: [Pregnancies, Glucose, BloodPressure, SkinThickness, Insulin, BMI, DiabetesPedigreeFunction, Age, Outcome, NEW_GLUCOSE, NEW_AGE, NEW_BLOOD_PRESSURE, NEW_INSULIN, NEW_BMI, NEW_GLUCOSE_INSULIN, NEW_BMI_SKINTHICKNESS, NEW_BMI_PREGNANCIES, NEW_BMI_AGE, NEW_AGE_PREGNANCY]\n",
      "Index: []\n",
      "Empty DataFrame\n",
      "Columns: [Pregnancies, Glucose, BloodPressure, SkinThickness, Insulin, BMI, DiabetesPedigreeFunction, Age, Outcome, NEW_GLUCOSE, NEW_AGE, NEW_BLOOD_PRESSURE, NEW_INSULIN, NEW_BMI, NEW_GLUCOSE_INSULIN, NEW_BMI_SKINTHICKNESS, NEW_BMI_PREGNANCIES, NEW_BMI_AGE, NEW_AGE_PREGNANCY]\n",
      "Index: []\n",
      "     Pregnancies  Glucose  BloodPressure  SkinThickness  Insulin    BMI  DiabetesPedigreeFunction  Age  Outcome       NEW_GLUCOSE     NEW_AGE   NEW_BLOOD_PRESSURE NEW_INSULIN  NEW_BMI  NEW_GLUCOSE_INSULIN  NEW_BMI_SKINTHICKNESS  NEW_BMI_PREGNANCIES  NEW_BMI_AGE  NEW_AGE_PREGNANCY\n",
      "8              2  197.000         70.000         45.000  543.000 30.500                     0.158   53        1  Diabetic_Glucose  MiddleAged               Normal    Abnormal  Obesity           106971.000               1372.500               61.000     1616.500                106\n",
      "13             1  189.000         60.000         23.000  846.000 30.100                     0.398   59        1  Diabetic_Glucose  MiddleAged               Normal    Abnormal  Obesity           159894.000                692.300               30.100     1775.900                 59\n",
      "111            8  155.000         62.000         26.000  495.000 34.000                     0.543   46        1       Prediabetes  MiddleAged               Normal    Abnormal  Obesity            76725.000                884.000              272.000     1564.000                368\n",
      "153            1  153.000         82.000         42.000  485.000 40.600                     0.687   23        0       Prediabetes      Adults  High_Blood_Pressure    Abnormal  Obesity            74205.000               1705.200               40.600      933.800                 23\n",
      "186            8  181.000         68.000         36.000  495.000 30.100                     0.615   60        1  Diabetic_Glucose  MiddleAged               Normal    Abnormal  Obesity            89595.000               1083.600              240.800     1806.000                480\n",
      "Empty DataFrame\n",
      "Columns: [Pregnancies, Glucose, BloodPressure, SkinThickness, Insulin, BMI, DiabetesPedigreeFunction, Age, Outcome, NEW_GLUCOSE, NEW_AGE, NEW_BLOOD_PRESSURE, NEW_INSULIN, NEW_BMI, NEW_GLUCOSE_INSULIN, NEW_BMI_SKINTHICKNESS, NEW_BMI_PREGNANCIES, NEW_BMI_AGE, NEW_AGE_PREGNANCY]\n",
      "Index: []\n",
      "     Pregnancies  Glucose  BloodPressure  SkinThickness  Insulin    BMI  DiabetesPedigreeFunction  Age  Outcome       NEW_GLUCOSE NEW_AGE   NEW_BLOOD_PRESSURE NEW_INSULIN  NEW_BMI  NEW_GLUCOSE_INSULIN  NEW_BMI_SKINTHICKNESS  NEW_BMI_PREGNANCIES  NEW_BMI_AGE  NEW_AGE_PREGNANCY\n",
      "4              0  137.000         40.000         35.000  168.000 43.100                     2.288   33        1            Normal  Adults               Normal    Abnormal  Obesity            23016.000               1508.500                0.000     1422.300                  0\n",
      "228            4  197.000         70.000         39.000  744.000 36.700                     2.329   31        0  Diabetic_Glucose  Adults               Normal    Abnormal  Obesity           146568.000               1431.300              146.800     1137.700                124\n",
      "370            3  173.000         82.000         48.000  465.000 38.400                     2.137   25        1  Diabetic_Glucose  Adults  High_Blood_Pressure    Abnormal  Obesity            80445.000               1843.200              115.200      960.000                 75\n",
      "445            0  180.000         78.000         63.000   14.000 59.400                     2.420   25        1  Diabetic_Glucose  Adults               Normal      Normal  Obesity             2520.000               3742.200                0.000     1485.000                  0\n",
      "Empty DataFrame\n",
      "Columns: [Pregnancies, Glucose, BloodPressure, SkinThickness, Insulin, BMI, DiabetesPedigreeFunction, Age, Outcome, NEW_GLUCOSE, NEW_AGE, NEW_BLOOD_PRESSURE, NEW_INSULIN, NEW_BMI, NEW_GLUCOSE_INSULIN, NEW_BMI_SKINTHICKNESS, NEW_BMI_PREGNANCIES, NEW_BMI_AGE, NEW_AGE_PREGNANCY]\n",
      "Index: []\n",
      "Empty DataFrame\n",
      "Columns: [Pregnancies, Glucose, BloodPressure, SkinThickness, Insulin, BMI, DiabetesPedigreeFunction, Age, Outcome, NEW_GLUCOSE, NEW_AGE, NEW_BLOOD_PRESSURE, NEW_INSULIN, NEW_BMI, NEW_GLUCOSE_INSULIN, NEW_BMI_SKINTHICKNESS, NEW_BMI_PREGNANCIES, NEW_BMI_AGE, NEW_AGE_PREGNANCY]\n",
      "Index: []\n"
     ]
    },
    {
     "data": {
      "text/plain": [
       "(768, 19)"
      ]
     },
     "execution_count": 16,
     "metadata": {},
     "output_type": "execute_result"
    }
   ],
   "source": [
    "############################# Handling Outliers ####################################\n",
    "\n",
    "cat_cols, num_cols, cat_but_car = grab_col_names (df, categorical = 10, cardinal =20)\n",
    "\n",
    "num_cols\n",
    "\n",
    "grab_outliers(df, 'Glucose', True) #\n",
    "grab_outliers(df, 'BloodPressure',True) #\n",
    "grab_outliers(df, 'Insulin',True)#18\n",
    "grab_outliers(df, 'BMI',True) #0\n",
    "grab_outliers(df, 'DiabetesPedigreeFunction',True) #4\n",
    "grab_outliers(df, 'Age',True)#0\n",
    "grab_outliers(df, 'NEW_AGE_PREGNANCY',True) # 0\n",
    "\n",
    "x= 18/df.shape[0]\n",
    "\n",
    "df.shape\n",
    "replace_with_thresholds(df, 'Insulin')\n",
    "replace_with_thresholds(df, 'DiabetesPedigreeFunction')\n",
    "df.shape"
   ]
  },
  {
   "cell_type": "code",
   "execution_count": 17,
   "id": "d654ce3c",
   "metadata": {
    "execution": {
     "iopub.execute_input": "2022-08-04T07:25:54.909607Z",
     "iopub.status.busy": "2022-08-04T07:25:54.909051Z",
     "iopub.status.idle": "2022-08-04T07:25:54.915091Z",
     "shell.execute_reply": "2022-08-04T07:25:54.913800Z"
    },
    "papermill": {
     "duration": 0.021213,
     "end_time": "2022-08-04T07:25:54.917488",
     "exception": false,
     "start_time": "2022-08-04T07:25:54.896275",
     "status": "completed"
    },
    "tags": []
   },
   "outputs": [],
   "source": [
    "df = df.copy()\n"
   ]
  },
  {
   "cell_type": "code",
   "execution_count": 18,
   "id": "0ef56530",
   "metadata": {
    "execution": {
     "iopub.execute_input": "2022-08-04T07:25:54.943487Z",
     "iopub.status.busy": "2022-08-04T07:25:54.942795Z",
     "iopub.status.idle": "2022-08-04T07:25:54.984201Z",
     "shell.execute_reply": "2022-08-04T07:25:54.982819Z"
    },
    "papermill": {
     "duration": 0.057394,
     "end_time": "2022-08-04T07:25:54.986595",
     "exception": false,
     "start_time": "2022-08-04T07:25:54.929201",
     "status": "completed"
    },
    "tags": []
   },
   "outputs": [
    {
     "name": "stdout",
     "output_type": "stream",
     "text": [
      "Observations: 768\n",
      "Variables: 19\n",
      "cat_cols: 6\n",
      "num_cols: 13\n",
      "cat_but_car: 0\n",
      "num_but_cat: 6\n"
     ]
    },
    {
     "data": {
      "text/html": [
       "<div>\n",
       "<style scoped>\n",
       "    .dataframe tbody tr th:only-of-type {\n",
       "        vertical-align: middle;\n",
       "    }\n",
       "\n",
       "    .dataframe tbody tr th {\n",
       "        vertical-align: top;\n",
       "    }\n",
       "\n",
       "    .dataframe thead th {\n",
       "        text-align: right;\n",
       "    }\n",
       "</style>\n",
       "<table border=\"1\" class=\"dataframe\">\n",
       "  <thead>\n",
       "    <tr style=\"text-align: right;\">\n",
       "      <th></th>\n",
       "      <th>Pregnancies</th>\n",
       "      <th>Glucose</th>\n",
       "      <th>BloodPressure</th>\n",
       "      <th>SkinThickness</th>\n",
       "      <th>Insulin</th>\n",
       "      <th>BMI</th>\n",
       "      <th>DiabetesPedigreeFunction</th>\n",
       "      <th>Age</th>\n",
       "      <th>Outcome</th>\n",
       "      <th>NEW_GLUCOSE_INSULIN</th>\n",
       "      <th>NEW_BMI_SKINTHICKNESS</th>\n",
       "      <th>NEW_BMI_PREGNANCIES</th>\n",
       "      <th>NEW_BMI_AGE</th>\n",
       "      <th>NEW_AGE_PREGNANCY</th>\n",
       "      <th>NEW_GLUCOSE_Normal</th>\n",
       "      <th>NEW_GLUCOSE_Prediabetes</th>\n",
       "      <th>NEW_GLUCOSE_Diabetic_Glucose</th>\n",
       "      <th>NEW_AGE_MiddleAged</th>\n",
       "      <th>NEW_AGE_Senior</th>\n",
       "      <th>NEW_BLOOD_PRESSURE_High_Blood_Pressure</th>\n",
       "      <th>NEW_BLOOD_PRESSURE_Hypertension</th>\n",
       "      <th>NEW_BLOOD_PRESSURE_Hypertension_Crisis</th>\n",
       "      <th>NEW_INSULIN_Abnormal</th>\n",
       "      <th>NEW_BMI_Normal</th>\n",
       "      <th>NEW_BMI_Overweight</th>\n",
       "      <th>NEW_BMI_Obesity</th>\n",
       "    </tr>\n",
       "  </thead>\n",
       "  <tbody>\n",
       "    <tr>\n",
       "      <th>0</th>\n",
       "      <td>6</td>\n",
       "      <td>148.000</td>\n",
       "      <td>72.000</td>\n",
       "      <td>35.000</td>\n",
       "      <td>169.500</td>\n",
       "      <td>33.600</td>\n",
       "      <td>0.627</td>\n",
       "      <td>50</td>\n",
       "      <td>1</td>\n",
       "      <td>25086.000</td>\n",
       "      <td>1176.000</td>\n",
       "      <td>201.600</td>\n",
       "      <td>1680.000</td>\n",
       "      <td>300</td>\n",
       "      <td>0</td>\n",
       "      <td>1</td>\n",
       "      <td>0</td>\n",
       "      <td>1</td>\n",
       "      <td>0</td>\n",
       "      <td>0</td>\n",
       "      <td>0</td>\n",
       "      <td>0</td>\n",
       "      <td>1</td>\n",
       "      <td>0</td>\n",
       "      <td>0</td>\n",
       "      <td>1</td>\n",
       "    </tr>\n",
       "    <tr>\n",
       "      <th>1</th>\n",
       "      <td>1</td>\n",
       "      <td>85.000</td>\n",
       "      <td>66.000</td>\n",
       "      <td>29.000</td>\n",
       "      <td>102.500</td>\n",
       "      <td>26.600</td>\n",
       "      <td>0.351</td>\n",
       "      <td>31</td>\n",
       "      <td>0</td>\n",
       "      <td>8712.500</td>\n",
       "      <td>771.400</td>\n",
       "      <td>26.600</td>\n",
       "      <td>824.600</td>\n",
       "      <td>31</td>\n",
       "      <td>1</td>\n",
       "      <td>0</td>\n",
       "      <td>0</td>\n",
       "      <td>0</td>\n",
       "      <td>0</td>\n",
       "      <td>0</td>\n",
       "      <td>0</td>\n",
       "      <td>0</td>\n",
       "      <td>0</td>\n",
       "      <td>0</td>\n",
       "      <td>1</td>\n",
       "      <td>0</td>\n",
       "    </tr>\n",
       "    <tr>\n",
       "      <th>2</th>\n",
       "      <td>8</td>\n",
       "      <td>183.000</td>\n",
       "      <td>64.000</td>\n",
       "      <td>32.000</td>\n",
       "      <td>169.500</td>\n",
       "      <td>23.300</td>\n",
       "      <td>0.672</td>\n",
       "      <td>32</td>\n",
       "      <td>1</td>\n",
       "      <td>31018.500</td>\n",
       "      <td>745.600</td>\n",
       "      <td>186.400</td>\n",
       "      <td>745.600</td>\n",
       "      <td>256</td>\n",
       "      <td>0</td>\n",
       "      <td>0</td>\n",
       "      <td>1</td>\n",
       "      <td>0</td>\n",
       "      <td>0</td>\n",
       "      <td>0</td>\n",
       "      <td>0</td>\n",
       "      <td>0</td>\n",
       "      <td>1</td>\n",
       "      <td>1</td>\n",
       "      <td>0</td>\n",
       "      <td>0</td>\n",
       "    </tr>\n",
       "    <tr>\n",
       "      <th>3</th>\n",
       "      <td>1</td>\n",
       "      <td>89.000</td>\n",
       "      <td>66.000</td>\n",
       "      <td>23.000</td>\n",
       "      <td>94.000</td>\n",
       "      <td>28.100</td>\n",
       "      <td>0.167</td>\n",
       "      <td>21</td>\n",
       "      <td>0</td>\n",
       "      <td>8366.000</td>\n",
       "      <td>646.300</td>\n",
       "      <td>28.100</td>\n",
       "      <td>590.100</td>\n",
       "      <td>21</td>\n",
       "      <td>1</td>\n",
       "      <td>0</td>\n",
       "      <td>0</td>\n",
       "      <td>0</td>\n",
       "      <td>0</td>\n",
       "      <td>0</td>\n",
       "      <td>0</td>\n",
       "      <td>0</td>\n",
       "      <td>0</td>\n",
       "      <td>0</td>\n",
       "      <td>1</td>\n",
       "      <td>0</td>\n",
       "    </tr>\n",
       "    <tr>\n",
       "      <th>4</th>\n",
       "      <td>0</td>\n",
       "      <td>137.000</td>\n",
       "      <td>40.000</td>\n",
       "      <td>35.000</td>\n",
       "      <td>168.000</td>\n",
       "      <td>43.100</td>\n",
       "      <td>1.949</td>\n",
       "      <td>33</td>\n",
       "      <td>1</td>\n",
       "      <td>23016.000</td>\n",
       "      <td>1508.500</td>\n",
       "      <td>0.000</td>\n",
       "      <td>1422.300</td>\n",
       "      <td>0</td>\n",
       "      <td>1</td>\n",
       "      <td>0</td>\n",
       "      <td>0</td>\n",
       "      <td>0</td>\n",
       "      <td>0</td>\n",
       "      <td>0</td>\n",
       "      <td>0</td>\n",
       "      <td>0</td>\n",
       "      <td>1</td>\n",
       "      <td>0</td>\n",
       "      <td>0</td>\n",
       "      <td>1</td>\n",
       "    </tr>\n",
       "  </tbody>\n",
       "</table>\n",
       "</div>"
      ],
      "text/plain": [
       "   Pregnancies  Glucose  BloodPressure  SkinThickness  Insulin    BMI  DiabetesPedigreeFunction  Age  Outcome  NEW_GLUCOSE_INSULIN  NEW_BMI_SKINTHICKNESS  NEW_BMI_PREGNANCIES  NEW_BMI_AGE  NEW_AGE_PREGNANCY  NEW_GLUCOSE_Normal  NEW_GLUCOSE_Prediabetes  NEW_GLUCOSE_Diabetic_Glucose  NEW_AGE_MiddleAged  NEW_AGE_Senior  NEW_BLOOD_PRESSURE_High_Blood_Pressure  NEW_BLOOD_PRESSURE_Hypertension  NEW_BLOOD_PRESSURE_Hypertension_Crisis  NEW_INSULIN_Abnormal  NEW_BMI_Normal  NEW_BMI_Overweight  \\\n",
       "0            6  148.000         72.000         35.000  169.500 33.600                     0.627   50        1            25086.000               1176.000              201.600     1680.000                300                   0                        1                             0                   1               0                                       0                                0                                       0                     1               0                   0   \n",
       "1            1   85.000         66.000         29.000  102.500 26.600                     0.351   31        0             8712.500                771.400               26.600      824.600                 31                   1                        0                             0                   0               0                                       0                                0                                       0                     0               0                   1   \n",
       "2            8  183.000         64.000         32.000  169.500 23.300                     0.672   32        1            31018.500                745.600              186.400      745.600                256                   0                        0                             1                   0               0                                       0                                0                                       0                     1               1                   0   \n",
       "3            1   89.000         66.000         23.000   94.000 28.100                     0.167   21        0             8366.000                646.300               28.100      590.100                 21                   1                        0                             0                   0               0                                       0                                0                                       0                     0               0                   1   \n",
       "4            0  137.000         40.000         35.000  168.000 43.100                     1.949   33        1            23016.000               1508.500                0.000     1422.300                  0                   1                        0                             0                   0               0                                       0                                0                                       0                     1               0                   0   \n",
       "\n",
       "   NEW_BMI_Obesity  \n",
       "0                1  \n",
       "1                0  \n",
       "2                0  \n",
       "3                0  \n",
       "4                1  "
      ]
     },
     "execution_count": 18,
     "metadata": {},
     "output_type": "execute_result"
    }
   ],
   "source": [
    "############################# Encoding ####################################\n",
    "\n",
    "# Değişkenlerin tiplerine göre ayrılması işlemi\n",
    "cat_cols, num_cols, cat_but_car = grab_col_names(df)\n",
    "\n",
    "\n",
    "def label_encoder(dataframe, binary_col):\n",
    "    labelencoder = LabelEncoder()\n",
    "    dataframe[binary_col] = labelencoder.fit_transform(dataframe[binary_col])\n",
    "    return dataframe\n",
    "\n",
    "binary_cols = [col for col in df.columns if df[col].dtypes == \"O\" and df[col].nunique() == 2]\n",
    "binary_cols\n",
    "\n",
    "for col in binary_cols:\n",
    "    df = label_encoder(df, col)\n",
    "\n",
    "# One-Hot Encoding İşlemi\n",
    "# cat_cols listesinin güncelleme işlemi\n",
    "cat_cols = [col for col in cat_cols if col not in binary_cols and col not in [\"Outcome\"]]\n",
    "cat_cols\n",
    "\n",
    "def one_hot_encoder(dataframe, categorical_cols, drop_first=False):\n",
    "    dataframe = pd.get_dummies(dataframe, columns=categorical_cols, drop_first=drop_first)\n",
    "    return dataframe\n",
    "\n",
    "df = one_hot_encoder(df, cat_cols, drop_first=True)\n",
    "\n",
    "df.head()"
   ]
  },
  {
   "cell_type": "code",
   "execution_count": 19,
   "id": "8c21a5c7",
   "metadata": {},
   "outputs": [],
   "source": [
    "import re\n",
    "df = df.rename(columns = lambda x:re.sub('[^A-Za-z0-9_]+', '', x))"
   ]
  },
  {
   "cell_type": "code",
   "execution_count": 20,
   "id": "1c402ab3",
   "metadata": {},
   "outputs": [
    {
     "data": {
      "text/plain": [
       "Index(['Pregnancies', 'Glucose', 'BloodPressure', 'SkinThickness', 'Insulin', 'BMI', 'DiabetesPedigreeFunction', 'Age', 'Outcome', 'NEW_GLUCOSE_INSULIN', 'NEW_BMI_SKINTHICKNESS', 'NEW_BMI_PREGNANCIES', 'NEW_BMI_AGE', 'NEW_AGE_PREGNANCY', 'NEW_GLUCOSE_Normal', 'NEW_GLUCOSE_Prediabetes', 'NEW_GLUCOSE_Diabetic_Glucose', 'NEW_AGE_MiddleAged', 'NEW_AGE_Senior', 'NEW_BLOOD_PRESSURE_High_Blood_Pressure', 'NEW_BLOOD_PRESSURE_Hypertension', 'NEW_BLOOD_PRESSURE_Hypertension_Crisis',\n",
       "       'NEW_INSULIN_Abnormal', 'NEW_BMI_Normal', 'NEW_BMI_Overweight', 'NEW_BMI_Obesity'],\n",
       "      dtype='object')"
      ]
     },
     "execution_count": 20,
     "metadata": {},
     "output_type": "execute_result"
    }
   ],
   "source": [
    "df.columns"
   ]
  },
  {
   "cell_type": "code",
   "execution_count": 21,
   "id": "a6809345",
   "metadata": {},
   "outputs": [],
   "source": [
    "df.drop(['NEW_GLUCOSE_Normal', 'NEW_GLUCOSE_Prediabetes', 'NEW_GLUCOSE_Diabetic_Glucose', 'NEW_AGE_MiddleAged', 'NEW_AGE_Senior', 'NEW_BLOOD_PRESSURE_High_Blood_Pressure', 'NEW_BLOOD_PRESSURE_Hypertension', 'NEW_BLOOD_PRESSURE_Hypertension_Crisis',\n",
    "       'NEW_INSULIN_Abnormal', 'NEW_BMI_Normal', 'NEW_BMI_Overweight', 'NEW_BMI_Obesity'] , axis = 1, inplace = True)"
   ]
  },
  {
   "cell_type": "code",
   "execution_count": 22,
   "id": "fe1b6e04",
   "metadata": {
    "execution": {
     "iopub.execute_input": "2022-08-04T07:25:55.012752Z",
     "iopub.status.busy": "2022-08-04T07:25:55.012062Z",
     "iopub.status.idle": "2022-08-04T07:25:55.320913Z",
     "shell.execute_reply": "2022-08-04T07:25:55.319797Z"
    },
    "papermill": {
     "duration": 0.324582,
     "end_time": "2022-08-04T07:25:55.323404",
     "exception": false,
     "start_time": "2022-08-04T07:25:54.998822",
     "status": "completed"
    },
    "tags": []
   },
   "outputs": [],
   "source": [
    "\n",
    "############################# Modelling ####################################\n",
    "y = df[\"Outcome\"]\n",
    "X = df.drop([\"Outcome\"], axis=1)\n",
    "\n",
    "scaler = RobustScaler()\n",
    "X_scaled = scaler.fit_transform(X)\n",
    "X_train = pd.DataFrame(X_scaled, columns=X.columns)\n",
    "X_train, X_test, y_train, y_test = train_test_split(X, y, test_size=0.25, random_state=17)"
   ]
  },
  {
   "cell_type": "code",
   "execution_count": 23,
   "id": "33505a5e",
   "metadata": {},
   "outputs": [],
   "source": [
    "############################# Modelling ####################################\n",
    "y = df[\"Outcome\"]\n",
    "X = df.drop([\"Outcome\"], axis=1)\n",
    "from sklearn.preprocessing import MinMaxScaler\n",
    "\n",
    "norm = MinMaxScaler()\n",
    "X_scaled = norm.fit_transform(X)\n",
    "X_train = pd.DataFrame(X_scaled, columns=X.columns)\n",
    "\n",
    "X_train, X_test, y_train, y_test = train_test_split(X, y, test_size=0.20, random_state=17)\n"
   ]
  },
  {
   "cell_type": "markdown",
   "id": "8e322351",
   "metadata": {},
   "source": [
    "### SVC"
   ]
  },
  {
   "cell_type": "code",
   "execution_count": 951,
   "metadata": {},
   "outputs": [],
   "source": [
    "svc_params = {'C': [100],  'kernel': ['rbf']}\n",
    "\n",
    "\n",
    "# classifiers = [('LightGBM', LGBMClassifier(random_state=46), lightgbm_params)]\n",
    "classifiers = [('SVC', SVC(random_state=46,probability=True), svc_params)]\n",
    "#classifiers = [('MLP', MLPClassifier(random_state=46), mlp_params)]\n"
   ]
  },
  {
   "cell_type": "code",
   "execution_count": 952,
   "id": "21470174",
   "metadata": {},
   "outputs": [
    {
     "name": "stdout",
     "output_type": "stream",
     "text": [
      "Hyperparameter Optimization....\n",
      "########## SVC ##########\n"
     ]
    }
   ],
   "source": [
    "def hyperparameter_optimization(X, y, cv=5, scoring=\"accuracy\"):\n",
    "    print(\"Hyperparameter Optimization....\")\n",
    "    best_models = {}\n",
    "    for name, classifier, params in classifiers:\n",
    "        print(f\"########## {name} ##########\")\n",
    "        \"\"\"cv_results = cross_validate(classifier, X_train, y_train, cv=cv, scoring=scoring)\n",
    "        print(f\"{scoring} (Before): {round(cv_results['test_score'].mean(), 4)}\")\"\"\"\n",
    "\n",
    "        gs_best = GridSearchCV(classifier, params, cv=cv, n_jobs=-1, verbose=False).fit(X_train, y_train)\n",
    "        final_model = classifier.set_params(**gs_best.best_params_)\n",
    "\n",
    "        cv_results = cross_validate(final_model, X, y, cv=cv, scoring=scoring)\n",
    "        print(f\"{scoring} (After): {round(cv_results['test_score'].mean(), 4)}\")\n",
    "        print(f\"{name} best params: {gs_best.best_params_}\", end=\"\\n\\n\")\n",
    "        best_models[name] = final_model\n",
    "\n",
    "        y_pred = final_model.fit(X, y).predict(X_test)\n",
    "        print(f\"classification report: {classification_report(y_test, y_pred)}\")\n",
    "        print(f\"confusion matrix: {confusion_matrix(y_test, y_pred)}\")\n",
    "\n",
    "        \"\"\"print(f\"Accuracy: {round(accuracy_score(y_pred, y_test), 2)}\")\n",
    "        print(f\"Recall: {round(recall_score(y_pred,y_test),2)}\")\n",
    "        print(f\"Precision: {round(precision_score(y_pred,y_test), 2)}\")\n",
    "        print(f\"F1: {round(f1_score(y_pred,y_test), 2)}\")\"\"\"\n",
    "        #print(f\"Auc: {round(roc_auc_score(y_pred,y_test), 2)}\")\n",
    "    return best_models\n",
    "\n",
    "best_models = hyperparameter_optimization(X_train, y_train)"
   ]
  },
  {
   "cell_type": "code",
   "execution_count": 947,
   "id": "6a93bba3",
   "metadata": {},
   "outputs": [
    {
     "data": {
      "text/plain": [
       "{'SVC': SVC(C=100, probability=True, random_state=46)}"
      ]
     },
     "execution_count": 947,
     "metadata": {},
     "output_type": "execute_result"
    }
   ],
   "source": [
    "best_models"
   ]
  },
  {
   "cell_type": "code",
   "execution_count": 948,
   "id": "341ecea8",
   "metadata": {},
   "outputs": [],
   "source": [
    "svm_model = best_models[\"SVC\"]"
   ]
  },
  {
   "cell_type": "code",
   "execution_count": 949,
   "id": "bb1765fd",
   "metadata": {},
   "outputs": [],
   "source": [
    "# svm roc curve ve auc değeri\n",
    "from sklearn.metrics import roc_curve, auc\n",
    "def plot_roc_curve(model, X, y, save=False):\n",
    "    y_pred_proba = model.predict_proba(X)[:, 1]\n",
    "    fpr, tpr, thresholds = roc_curve(y, y_pred_proba)\n",
    "    auc_score = auc(fpr, tpr)\n",
    "    plt.figure(figsize=(10, 10))\n",
    "    plt.plot([0,1], [0,1], 'k--', label = 'Random guessing: 0.5')\n",
    "    plt.plot(fpr, tpr, label='ROC curve (area = %0.2f)' % auc_score, color='turquoise', lw=3)\n",
    "\n",
    "    plt.xlim([-0.05, 1.05])\n",
    "    plt.ylim([-0.05, 1.05])\n",
    "    plt.xlabel('False Positive Rate', fontsize=12)\n",
    "    plt.ylabel('True Positive Rate', fontsize=12)\n",
    "    plt.title('Receiver operating characteristic')\n",
    "    plt.legend(loc=\"lower right\")\n",
    "    plt.show()\n",
    "    if save:\n",
    "        plt.savefig('roc_curve.png')"
   ]
  },
  {
   "cell_type": "code",
   "execution_count": 950,
   "id": "76b36b06",
   "metadata": {},
   "outputs": [
    {
     "data": {
      "image/png": "[encoded data removed]",
      "text/plain": [
       "<Figure size 720x720 with 1 Axes>"
      ]
     },
     "metadata": {},
     "output_type": "display_data"
    }
   ],
   "source": [
    "plot_roc_curve(svm_model, X_test, y_test)"
   ]
  },
  {
   "cell_type": "markdown",
   "id": "c46dfe33",
   "metadata": {},
   "source": [
    "### LGBM"
   ]
  },
  {
   "cell_type": "code",
   "execution_count": 27,
   "id": "37f3a745",
   "metadata": {},
   "outputs": [],
   "source": [
    "lightgbm_params = {\"learning_rate\": [0.01],\n",
    "                \"n_estimators\": [250,270,280,290]\n",
    "\n",
    "classifiers = [('LightGBM', LGBMClassifier(random_state=46), lightgbm_params)]"
   ]
  },
  {
   "cell_type": "code",
   "execution_count": 921,
   "id": "752861ce",
   "metadata": {},
   "outputs": [
    {
     "name": "stdout",
     "output_type": "stream",
     "text": [
      "Hyperparameter Optimization....\n",
      "########## LightGBM ##########\n",
      "accuracy (After): 0.8925\n",
      "LightGBM best params: {'learning_rate': 0.01, 'n_estimators': 250}\n",
      "\n",
      "classification report:               precision    recall  f1-score   support\n",
      "\n",
      "           0       0.90      0.95      0.92       121\n",
      "           1       0.91      0.82      0.86        71\n",
      "\n",
      "    accuracy                           0.90       192\n",
      "   macro avg       0.90      0.88      0.89       192\n",
      "weighted avg       0.90      0.90      0.90       192\n",
      "\n",
      "confusion matrix: [[115   6]\n",
      " [ 13  58]]\n"
     ]
    }
   ],
   "source": [
    "def hyperparameter_optimization(X, y, cv=5, scoring=\"accuracy\"):\n",
    "    print(\"Hyperparameter Optimization....\")\n",
    "    best_models = {}\n",
    "    for name, classifier, params in classifiers:\n",
    "        print(f\"########## {name} ##########\")\n",
    "        \"\"\"cv_results = cross_validate(classifier, X_train, y_train, cv=cv, scoring=scoring)\n",
    "        print(f\"{scoring} (Before): {round(cv_results['test_score'].mean(), 4)}\")\"\"\"\n",
    "\n",
    "        gs_best = GridSearchCV(classifier, params, cv=cv, n_jobs=-1, verbose=False).fit(X_train, y_train)\n",
    "        final_model = classifier.set_params(**gs_best.best_params_)\n",
    "\n",
    "        cv_results = cross_validate(final_model, X, y, cv=cv, scoring=scoring)\n",
    "        print(f\"{scoring} (After): {round(cv_results['test_score'].mean(), 4)}\")\n",
    "        print(f\"{name} best params: {gs_best.best_params_}\", end=\"\\n\\n\")\n",
    "        best_models[name] = final_model\n",
    "\n",
    "        y_pred = final_model.fit(X, y).predict(X_test)\n",
    "        print(f\"classification report: {classification_report(y_test, y_pred)}\")\n",
    "        print(f\"confusion matrix: {confusion_matrix(y_test, y_pred)}\")\n",
    "\n",
    "        \"\"\"print(f\"Accuracy: {round(accuracy_score(y_pred, y_test), 2)}\")\n",
    "        print(f\"Recall: {round(recall_score(y_pred,y_test),2)}\")\n",
    "        print(f\"Precision: {round(precision_score(y_pred,y_test), 2)}\")\n",
    "        print(f\"F1: {round(f1_score(y_pred,y_test), 2)}\")\"\"\"\n",
    "        #print(f\"Auc: {round(roc_auc_score(y_pred,y_test), 2)}\")\n",
    "    return best_models\n",
    "\n",
    "best_models = hyperparameter_optimization(X_train, y_train)"
   ]
  },
  {
   "cell_type": "code",
   "execution_count": 922,
   "id": "0e0842a5",
   "metadata": {
    "execution": {
     "iopub.execute_input": "2022-08-04T07:25:55.393672Z",
     "iopub.status.busy": "2022-08-04T07:25:55.392893Z",
     "iopub.status.idle": "2022-08-04T07:25:56.063834Z",
     "shell.execute_reply": "2022-08-04T07:25:56.062657Z"
    },
    "papermill": {
     "duration": 0.688327,
     "end_time": "2022-08-04T07:25:56.066667",
     "exception": false,
     "start_time": "2022-08-04T07:25:55.378340",
     "status": "completed"
    },
    "tags": []
   },
   "outputs": [],
   "source": [
    "# lgbm importance\n",
    "def plot_importance(model, features, num=len(X), save=False):\n",
    "    feature_imp = pd.DataFrame({'Value': model.feature_importances_, 'Feature': features.columns})\n",
    "    plt.figure(figsize=(10, 10))\n",
    "    sns.set(font_scale=1)\n",
    "    sns.barplot(x=\"Value\", y=\"Feature\", data=feature_imp.sort_values(by=\"Value\",\n",
    "                                                                      ascending=False)[0:num])\n",
    "    plt.title('Features')\n",
    "    plt.tight_layout()\n",
    "    plt.show()\n",
    "    if save:\n",
    "        plt.savefig('importances.png')\n",
    "\n",
    "# lgbm roc curve ve auc değeri\n",
    "from sklearn.metrics import roc_curve, auc\n",
    "def plot_roc_curve(model, X, y, save=False):\n",
    "    y_pred_proba = model.predict_proba(X)[:, 1]\n",
    "    fpr, tpr, thresholds = roc_curve(y, y_pred_proba)\n",
    "    auc_score = auc(fpr, tpr)\n",
    "    plt.figure(figsize=(10, 10))\n",
    "    plt.plot([0,1], [0,1], 'k--', label = 'Random guessing: 0.5')\n",
    "    plt.plot(fpr, tpr, label='ROC curve (area = %0.2f)' % auc_score, color='turquoise', lw=3)\n",
    "\n",
    "    plt.xlim([-0.05, 1.05])\n",
    "    plt.ylim([-0.05, 1.05])\n",
    "    plt.xlabel('False Positive Rate', fontsize=12)\n",
    "    plt.ylabel('True Positive Rate', fontsize=12)\n",
    "    plt.title('Receiver operating characteristic')\n",
    "    plt.legend(loc=\"lower right\", fontsize=13)\n",
    "    plt.show()\n",
    "    if save:\n",
    "        plt.savefig('roc_curve.png')"
   ]
  },
  {
   "cell_type": "code",
   "execution_count": 923,
   "id": "12b05f83",
   "metadata": {},
   "outputs": [],
   "source": [
    "best_models\n",
    "lgbm_model = best_models[\"LightGBM\"]"
   ]
  },
  {
   "cell_type": "code",
   "execution_count": 924,
   "id": "33a12b40",
   "metadata": {},
   "outputs": [
    {
     "data": {
      "image/png": "[encoded data removed]",
      "text/plain": [
       "<Figure size 720x720 with 1 Axes>"
      ]
     },
     "metadata": {},
     "output_type": "display_data"
    }
   ],
   "source": [
    "plot_importance(lgbm_model, X_train)"
   ]
  },
  {
   "cell_type": "code",
   "execution_count": 925,
   "metadata": {},
   "outputs": [
    {
     "data": {
      "image/png": "[encoded data removed]",
      "text/plain": [
       "<Figure size 720x720 with 1 Axes>"
      ]
     },
     "metadata": {},
     "output_type": "display_data"
    }
   ],
   "source": [
    "plot_roc_curve(lgbm_model, X_test, y_test)"
   ]
  },
  {
   "cell_type": "markdown",
   "id": "a3eeabad",
   "metadata": {},
   "source": [
    "### YSA"
   ]
  },
  {
   "cell_type": "code",
   "execution_count": 24,
   "id": "56f6810f",
   "metadata": {},
   "outputs": [
    {
     "data": {
      "text/plain": [
       "(768, 14)"
      ]
     },
     "execution_count": 24,
     "metadata": {},
     "output_type": "execute_result"
    }
   ],
   "source": [
    "df.shape"
   ]
  },
  {
   "cell_type": "code",
   "execution_count": 25,
   "id": "b3d51a5a",
   "metadata": {},
   "outputs": [
    {
     "data": {
      "text/plain": [
       "((614, 13), (154, 13))"
      ]
     },
     "execution_count": 25,
     "metadata": {},
     "output_type": "execute_result"
    }
   ],
   "source": [
    "X_train.shape, X_test.shape"
   ]
  },
  {
   "cell_type": "code",
   "execution_count": 26,
   "id": "6df10c2b",
   "metadata": {},
   "outputs": [],
   "source": [
    "import tensorflow as tf\n",
    "from keras.optimizers import Adam"
   ]
  },
  {
   "cell_type": "code",
   "execution_count": 110,
   "id": "9d800bc6",
   "metadata": {},
   "outputs": [],
   "source": [
    "tf.random.set_seed(3)\n",
    "opt = Adam(learning_rate=0.01)\n",
    "model = tf.keras.Sequential([\n",
    "    Dense(32, activation='relu', input_shape=(X_train.shape[1],)),\n",
    "    Dense(20, activation='relu'),\n",
    "    #tf.keras.layers.BatchNormalization(),\n",
    "    Dense(8, activation='relu'),\n",
    "    Dense(1, activation='sigmoid')        \n",
    "])\n",
    "model.compile(loss= 'binary_crossentropy' , optimizer= opt , metrics=[ 'accuracy' ])"
   ]
  },
  {
   "cell_type": "code",
   "execution_count": 111,
   "id": "17d3c99e",
   "metadata": {},
   "outputs": [],
   "source": [
    "history= model.fit(X_train, y_train, validation_split=0.2, epochs=500, batch_size=64,verbose=0, shuffle=True, callbacks=[EarlyStopping(monitor='val_loss', patience=30)])"
   ]
  },
  {
   "cell_type": "code",
   "execution_count": 112,
   "id": "f96d73ac",
   "metadata": {},
   "outputs": [
    {
     "data": {
      "image/png": "[encoded data removed]",
      "text/plain": [
       "<Figure size 432x288 with 1 Axes>"
      ]
     },
     "metadata": {
      "needs_background": "light"
     },
     "output_type": "display_data"
    },
    {
     "data": {
      "text/plain": [
       "<matplotlib.legend.Legend at 0x1d3b5edc130>"
      ]
     },
     "execution_count": 112,
     "metadata": {},
     "output_type": "execute_result"
    },
    {
     "data": {
      "image/png": "[encoded data removed]",
      "text/plain": [
       "<Figure size 432x288 with 1 Axes>"
      ]
     },
     "metadata": {
      "needs_background": "light"
     },
     "output_type": "display_data"
    }
   ],
   "source": [
    "import matplotlib.pyplot as plt\n",
    "\n",
    "# summarize history for accuracy\n",
    "plt.plot(history.history[ 'accuracy'])\n",
    "plt.plot(history.history[ 'val_accuracy' ])\n",
    "plt.title( 'model accuracy' )\n",
    "plt.ylabel( 'accuracy' )\n",
    "plt.xlabel( 'epoch' )\n",
    "plt.legend([ 'train' , 'val_accuracy' ], loc= 'lower right' )\n",
    "plt.show()\n",
    "\n",
    "import matplotlib.pyplot as plt\n",
    "# summarize history for accuracy\n",
    "plt.plot(history.history[ 'loss' ])\n",
    "plt.plot(history.history[ 'val_loss' ])\n",
    "plt.title( 'model loss' )\n",
    "plt.ylabel( 'loss' )\n",
    "plt.xlabel( 'epoch' )\n",
    "plt.legend([ 'train' , 'val_loss' ], loc= 'upper left' )"
   ]
  },
  {
   "cell_type": "code",
   "execution_count": 82,
   "id": "206f5c27",
   "metadata": {},
   "outputs": [
    {
     "name": "stdout",
     "output_type": "stream",
     "text": [
      "              precision    recall  f1-score   support\n",
      "\n",
      "           0       0.92      0.61      0.73        97\n",
      "           1       0.58      0.91      0.71        57\n",
      "\n",
      "    accuracy                           0.72       154\n",
      "   macro avg       0.75      0.76      0.72       154\n",
      "weighted avg       0.79      0.72      0.72       154\n",
      "\n"
     ]
    }
   ],
   "source": [
    "print(classification_report(y_test, y_predd))"
   ]
  },
  {
   "cell_type": "code",
   "execution_count": 83,
   "id": "aa6f7acd",
   "metadata": {},
   "outputs": [
    {
     "name": "stdout",
     "output_type": "stream",
     "text": [
      "5/5 [==============================] - 0s 1ms/step\n"
     ]
    },
    {
     "data": {
      "text/plain": [
       "0.7207792207792207"
      ]
     },
     "execution_count": 83,
     "metadata": {},
     "output_type": "execute_result"
    }
   ],
   "source": [
    "y_predd = model.predict(X_test)\n",
    "y_predd = (y_predd > 0.2)\n",
    "accuracy_score(y_test,y_predd)"
   ]
  },
  {
   "cell_type": "code",
   "execution_count": 908,
   "id": "842cb2b1",
   "metadata": {},
   "outputs": [
    {
     "name": "stdout",
     "output_type": "stream",
     "text": [
      "[[106  15]\n",
      " [ 11  60]]\n"
     ]
    }
   ],
   "source": [
    "print(confusion_matrix(y_test, y_predd))"
   ]
  },
  {
   "cell_type": "code",
   "execution_count": 910,
   "id": "4e0020fc",
   "metadata": {},
   "outputs": [
    {
     "name": "stdout",
     "output_type": "stream",
     "text": [
      "6/6 [==============================] - 0s 997us/step\n"
     ]
    }
   ],
   "source": [
    "from sklearn.metrics import roc_curve\n",
    "y_pred_keras = model.predict(X_test).ravel()\n",
    "fpr_keras, tpr_keras, thresholds_keras = roc_curve(y_test, y_pred_keras)\n",
    "from sklearn.metrics import auc\n",
    "auc_keras = auc(fpr_keras, tpr_keras)"
   ]
  },
  {
   "cell_type": "code",
   "execution_count": 919,
   "id": "429c5446",
   "metadata": {},
   "outputs": [
    {
     "data": {
      "image/png": "[encoded data removed]",
      "text/plain": [
       "<Figure size 720x720 with 1 Axes>"
      ]
     },
     "metadata": {},
     "output_type": "display_data"
    }
   ],
   "source": [
    "plt.figure(figsize=(10, 10))\n",
    "plt.plot([0,1], [0,1], 'm--', label = 'Random guessing: 0.5')\n",
    "plt.plot(fpr_keras, tpr_keras, label='YSA ROC (area = {:.3f})'.format(auc_keras), color='magenta',lw = 3)\n",
    "plt.xlabel('False positive rate')\n",
    "plt.ylabel('True positive rate')\n",
    "plt.title('Receiver operating characteristic')\n",
    "plt.legend(loc=\"lower right\", fontsize=13)\n",
    "plt.show()"
   ]
  },
  {
   "cell_type": "code",
   "execution_count": null,
   "id": "605265d3",
   "metadata": {},
   "outputs": [],
   "source": []
  }
 ],
 "metadata": {
  "kernelspec": {
   "display_name": "Python 3.9.12 ('base')",
   "language": "python",
   "name": "python3"
  },
  "language_info": {
   "codemirror_mode": {
    "name": "ipython",
    "version": 3
   },
   "file_extension": ".py",
   "mimetype": "text/x-python",
   "name": "python",
   "nbconvert_exporter": "python",
   "pygments_lexer": "ipython3",
   "version": "3.9.12"
  },
  "papermill": {
   "default_parameters": {},
   "duration": 29.21607,
   "end_time": "2022-08-04T07:25:56.906706",
   "environment_variables": {},
   "exception": null,
   "input_path": "__notebook__.ipynb",
   "output_path": "__notebook__.ipynb",
   "parameters": {},
   "start_time": "2022-08-04T07:25:27.690636",
   "version": "2.3.4"
  },
  "vscode": {
   "interpreter": {
    "hash": "0b6fd1a82b2d9197bf27575acf54f1cd90024fbbcd8b72cfbb7c95a9d3a58d13"
   }
  }
 },
 "nbformat": 4,
 "nbformat_minor": 5
}
